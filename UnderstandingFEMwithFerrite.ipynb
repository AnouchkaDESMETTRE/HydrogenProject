{
 "cells": [
  {
   "cell_type": "markdown",
   "id": "8a25e9cb-241b-4a72-aae2-b358d5d5751b",
   "metadata": {},
   "source": [
    "# Understanding FEM with Ferrite"
   ]
  },
  {
   "cell_type": "markdown",
   "id": "3af29084-63c7-432d-8bb4-5c40e066e3aa",
   "metadata": {},
   "source": [
    "## Assemble() function"
   ]
  },
  {
   "cell_type": "markdown",
   "id": "7d4c84f1-6528-4aec-9332-4b9b11e8f3f3",
   "metadata": {},
   "source": [
    "Link with `assemble!()` function from Ferrite and FEM courses:\n",
    "\n",
    "**FEM in brief**\n",
    "Solving **Partial Differential Equations (PDEs)** by transforming them into a system of algebraic equations.\n",
    "\n",
    "*1. Discretization of the domain*\n",
    "The continuous problem domain is divided into a finite number of sub-domains called **finite elements** (triangles, quadrilaterals in 2D; tetrahedra, hexahedra in 3D).\n",
    "\n",
    "*2. Interpolation on elements*\n",
    "The unknown solution ($u$) is approximated on each element by a linear combination of **shape functions** (also called basis functions or interpolation functions) and **nodal values** (Degrees of Freedom, **DoF**) of the solution.\n",
    "For example, for an element, $u^h(x) \\approx \\sum_{j=1}^{n} u_j \\phi_j(x)$, where $u_j$ are the nodal values and $\\phi_j(x)$ are the shape functions.\n",
    "\n",
    "*3. Variational (weak) formulation*\n",
    "The PDE is transformed into an integral form (the \"weak form\"), which is then applied to each element. This leads to a small system of equations for each element, often called the **elemental stiffness matrix** ($K_e$) and **elemental force vector** ($f_e$).\n",
    "\n",
    "**The Role of Assembly**\n",
    "Calculate $K_e$ and $f_e$ for each element, then combine them to form the **global stiffness matrix** ($K$) and the **global force vector** ($F$).\n",
    "\n",
    "* **Identify the contribution of each local DoF to a global DoF**. Shape functions of different elements can overlap at shared nodes.\n",
    "* **Sum the contributions of each element** to the appropriate position in the global matrix. If a global DoF is affected by multiple elements, their local contributions are simply added.\n",
    "\n",
    "In Ferrite.jl, the `assemble_element!` and `assemble!` functions precisely manage this:\n",
    "\n",
    "* `assemble_element!` (which you write): This is where you define the integrals of your weak form for a single element. You calculate the $K_e$ and $f_e$ terms using `CellValues` (for shape functions, gradients, quadrature points, etc.).\n",
    "* `assemble!` (provided by Ferrite.jl): This function takes the local matrices/vectors ($K_e$, $f_e$) you've calculated and adds them to the correct positions in the global matrices/vectors ($K$, $F$). It handles the \"connectivity\" and the summation of overlapping contributions. Ferrite does this in an optimized way for sparse matrices.\n",
    "\n",
    "**Useful Source**\n",
    "[https://github.com/Ferrite-FEM/Ferrite.jl/blob/f1d1d0deef7bdaf019bd63ce9e8d959b6ebc8c4d/src/assembler.jl#L240-L249](https://github.com/Ferrite-FEM/Ferrite.jl/blob/f1d1d0deef7bdaf019bd63ce9e8d959b6ebc8c4d/src/assembler.jl#L240-L249)"
   ]
  },
  {
   "cell_type": "markdown",
   "id": "3c31ffd6-f235-419a-adc3-d8636541dffa",
   "metadata": {},
   "source": [
    "## Exemples"
   ]
  },
  {
   "cell_type": "markdown",
   "id": "65728a0c-db15-4394-8866-4e6106f22e02",
   "metadata": {},
   "source": [
    "This code visually demonstrates the **FEM assembly process** using the Ferrite.jl library for a simple 1D Poisson problem. It specifically highlights the workflow from mesh generation and local element computations to the efficient construction of the global system matrix using Ferrite's assemble! function."
   ]
  },
  {
   "cell_type": "code",
   "execution_count": 7,
   "id": "8f2db287-4166-462c-8ece-c6c408a0fc75",
   "metadata": {},
   "outputs": [
    {
     "name": "stdout",
     "output_type": "stream",
     "text": [
      "Performing global assembly using assemble!...\n",
      "\n",
      "Global Stiffness Matrix (K):\n"
     ]
    },
    {
     "data": {
      "text/plain": [
       "11×11 SparseMatrixCSC{Float64, Int64} with 31 stored entries:\n",
       "  10.0  -10.0     ⋅      ⋅      ⋅      ⋅      ⋅      ⋅      ⋅      ⋅      ⋅ \n",
       " -10.0   20.0  -10.0     ⋅      ⋅      ⋅      ⋅      ⋅      ⋅      ⋅      ⋅ \n",
       "    ⋅   -10.0   20.0  -10.0     ⋅      ⋅      ⋅      ⋅      ⋅      ⋅      ⋅ \n",
       "    ⋅      ⋅   -10.0   20.0  -10.0     ⋅      ⋅      ⋅      ⋅      ⋅      ⋅ \n",
       "    ⋅      ⋅      ⋅   -10.0   20.0  -10.0     ⋅      ⋅      ⋅      ⋅      ⋅ \n",
       "    ⋅      ⋅      ⋅      ⋅   -10.0   20.0  -10.0     ⋅      ⋅      ⋅      ⋅ \n",
       "    ⋅      ⋅      ⋅      ⋅      ⋅   -10.0   20.0  -10.0     ⋅      ⋅      ⋅ \n",
       "    ⋅      ⋅      ⋅      ⋅      ⋅      ⋅   -10.0   20.0  -10.0     ⋅      ⋅ \n",
       "    ⋅      ⋅      ⋅      ⋅      ⋅      ⋅      ⋅   -10.0   20.0  -10.0     ⋅ \n",
       "    ⋅      ⋅      ⋅      ⋅      ⋅      ⋅      ⋅      ⋅   -10.0   20.0  -10.0\n",
       "    ⋅      ⋅      ⋅      ⋅      ⋅      ⋅      ⋅      ⋅      ⋅   -10.0   10.0"
      ]
     },
     "metadata": {},
     "output_type": "display_data"
    },
    {
     "name": "stdout",
     "output_type": "stream",
     "text": [
      "------------------------------\n",
      "Global Force Vector (f):\n"
     ]
    },
    {
     "data": {
      "text/plain": [
       "11-element Vector{Float64}:\n",
       " 0.0\n",
       " 0.0\n",
       " 0.0\n",
       " 0.0\n",
       " 0.0\n",
       " 0.0\n",
       " 0.0\n",
       " 0.0\n",
       " 0.0\n",
       " 0.0\n",
       " 0.0"
      ]
     },
     "metadata": {},
     "output_type": "display_data"
    },
    {
     "name": "stdout",
     "output_type": "stream",
     "text": [
      "------------------------------\n"
     ]
    }
   ],
   "source": [
    "using Ferrite, SparseArrays\n",
    "\n",
    "# --- 1. Grid and CellValues (Minimal 1D setup) ---\n",
    "nels = (10,) # 10 elements\n",
    "left = Vec((0.0,))\n",
    "right = Vec((1.0,))\n",
    "grid = generate_grid(Line, nels, left, right)\n",
    "\n",
    "ip = Lagrange{RefLine, 1}() # Linear interpolation\n",
    "qr = QuadratureRule{RefLine}(1) # 1 quadrature point for simplicity\n",
    "cellvalues = CellValues(qr, ip)\n",
    "\n",
    "dh = DofHandler(grid)\n",
    "add!(dh, :u, ip)\n",
    "close!(dh)\n",
    "\n",
    "# --- 2. Local Assembly Function ---\n",
    "# This is where you define how to compute Ke and fe for a single element\n",
    "function assemble_element!(Ke::Matrix{Float64}, fe::Vector{Float64}, cellvalues::CellValues)\n",
    "    n_basefuncs = getnbasefunctions(cellvalues)\n",
    "    fill!(Ke, 0.0) # Clear local stiffness matrix\n",
    "    fill!(fe, 0.0) # Clear local force vector\n",
    "\n",
    "    # Loop over quadrature points\n",
    "    for qp in 1:getnquadpoints(cellvalues)\n",
    "        dΩ = getdetJdV(cellvalues, qp) # Volume element (length in 1D)\n",
    "        \n",
    "        # For -u'' = 0 (homogeneous Poisson), f_val = 0\n",
    "        # If f = 1, then f_val = 1.0\n",
    "        f_val = 0.0 \n",
    "\n",
    "        # Loop over basis functions for the stiffness matrix\n",
    "        for i in 1:n_basefuncs\n",
    "            ∇ϕ_i = shape_gradient(cellvalues, qp, i) # Gradient of shape function i\n",
    "            for j in 1:n_basefuncs\n",
    "                ∇ϕ_j = shape_gradient(cellvalues, qp, j) # Gradient of shape function j\n",
    "                Ke[i, j] += (∇ϕ_i ⋅ ∇ϕ_j) * dΩ # (∇ϕ_i ⋅ ∇ϕ_j) is just ∇ϕ_i[1] * ∇ϕ_j[1] in 1D\n",
    "            end\n",
    "        end\n",
    "        \n",
    "        # Loop over basis functions for the force vector\n",
    "        for i in 1:n_basefuncs\n",
    "            ϕ_i = shape_value(cellvalues, qp, i) # Value of shape function i\n",
    "            fe[i] += ϕ_i * f_val * dΩ\n",
    "        end\n",
    "    end\n",
    "end\n",
    "\n",
    "# --- 3. Global Assembly Function (uses assemble! internally) ---\n",
    "function assemble_global_Kf(cellvalues::CellValues, dh::DofHandler)\n",
    "    K_global = allocate_matrix(dh) # CORRECT: Allocates a sparse matrix with the right sparsity pattern\n",
    "\n",
    "    f_global = zeros(ndofs(dh)) # Global force vector (this is fine as it's a dense vector)\n",
    "\n",
    "    # Allocate local buffers\n",
    "    n_basefuncs = getnbasefunctions(cellvalues)\n",
    "    Ke = zeros(n_basefuncs, n_basefuncs)\n",
    "    fe = zeros(n_basefuncs)\n",
    "\n",
    "    # Initialize the assembler\n",
    "    assembler = start_assemble(K_global, f_global)\n",
    "\n",
    "    for cell in CellIterator(dh)\n",
    "        Ferrite.reinit!(cellvalues, cell)\n",
    "        assemble_element!(Ke, fe, cellvalues)\n",
    "        cell_dofs = celldofs(cell)\n",
    "        assemble!(assembler, cell_dofs, Ke, fe)\n",
    "    end\n",
    "    \n",
    "    return K_global, f_global\n",
    "end\n",
    "\n",
    "# --- 4. Perform Global Assembly and Display ---\n",
    "println(\"Performing global assembly using assemble!...\")\n",
    "K, f = assemble_global_Kf(cellvalues, dh)\n",
    "\n",
    "println(\"\\nGlobal Stiffness Matrix (K):\")\n",
    "display(K)\n",
    "println(\"-\"^30)\n",
    "\n",
    "println(\"Global Force Vector (f):\")\n",
    "display(f)\n",
    "println(\"-\"^30)\n",
    "\n",
    "# --- 5. Interpretation ---\n",
    "# For a 1D Poisson problem (-u'' = 0) with linear elements,\n",
    "# Scaled by 1/h (h=0.1 for 10 elements on [0,1], so 1/0.1 = 10)\n",
    "# So for 10 elements, you'd expect a sparse matrix with entries like:\n",
    "# diag(K) = [10, 20, 20, ..., 20, 10]\n",
    "# sub/super-diag(K) = [-10, -10, ..., -10]"
   ]
  },
  {
   "cell_type": "markdown",
   "id": "54a830fc-4c9e-47bd-a7ca-5724e270b871",
   "metadata": {},
   "source": [
    "This code conceptualizes how local stiffness contributions from individual elements in a simple 1D mesh (two segments, three nodes) are systematically combined into a larger, global stiffness matrix. The core illustration is the summation of overlapping contributions at shared nodes, clearly showing how element-level properties are integrated to form the system-wide equations. "
   ]
  },
  {
   "cell_type": "code",
   "execution_count": 1,
   "id": "e0438f61-0c1c-46b2-b8ea-5def68b7e673",
   "metadata": {},
   "outputs": [
    {
     "name": "stdout",
     "output_type": "stream",
     "text": [
      "Matrice globale initiale (vide):\n"
     ]
    },
    {
     "data": {
      "text/plain": [
       "3×3 SparseMatrixCSC{Float64, Int64} with 0 stored entries:\n",
       "  ⋅    ⋅    ⋅ \n",
       "  ⋅    ⋅    ⋅ \n",
       "  ⋅    ⋅    ⋅ "
      ]
     },
     "metadata": {},
     "output_type": "display_data"
    },
    {
     "name": "stdout",
     "output_type": "stream",
     "text": [
      "------------------------------\n",
      "Assemblage de l'élément 1 (connecte 1 et 2)...\n"
     ]
    },
    {
     "data": {
      "text/plain": [
       "3×3 SparseMatrixCSC{Float64, Int64} with 4 stored entries:\n",
       "  1.0  -1.0   ⋅ \n",
       " -1.0   1.0   ⋅ \n",
       "   ⋅     ⋅    ⋅ "
      ]
     },
     "metadata": {},
     "output_type": "display_data"
    },
    {
     "name": "stdout",
     "output_type": "stream",
     "text": [
      "------------------------------\n",
      "Assemblage de l'élément 2 (connecte 2 et 3)...\n"
     ]
    },
    {
     "data": {
      "text/plain": [
       "3×3 SparseMatrixCSC{Float64, Int64} with 7 stored entries:\n",
       "  1.0  -1.0    ⋅ \n",
       " -1.0   2.0  -1.0\n",
       "   ⋅   -1.0   1.0"
      ]
     },
     "metadata": {},
     "output_type": "display_data"
    },
    {
     "name": "stdout",
     "output_type": "stream",
     "text": [
      "------------------------------\n",
      "Matrice globale finale après assemblage:\n"
     ]
    },
    {
     "data": {
      "text/plain": [
       "3×3 SparseMatrixCSC{Float64, Int64} with 7 stored entries:\n",
       "  1.0  -1.0    ⋅ \n",
       " -1.0   2.0  -1.0\n",
       "   ⋅   -1.0   1.0"
      ]
     },
     "metadata": {},
     "output_type": "display_data"
    },
    {
     "name": "stdout",
     "output_type": "stream",
     "text": [
      "------------------------------\n"
     ]
    }
   ],
   "source": [
    "# --- 1. Définition du problème simple ---\n",
    "# On a 3 nœuds (1, 2, 3) et 2 éléments (e1, e2)\n",
    "# Élément 1 connecte les nœuds 1 et 2\n",
    "# Élément 2 connecte les nœuds 2 et 3\n",
    "\n",
    "num_global_dofs = 3 # Nombre de degrés de liberté globaux (ici, les 3 nœuds)\n",
    "\n",
    "# --- 2. Matrices de rigidité élémentaires (conceptuelles) ---\n",
    "# En 1D, pour un problème simple (ex: -u'' = f), une matrice élémentaire\n",
    "# typique pour un élément à 2 nœuds serait:\n",
    "#       [  1  -1 ]\n",
    "#       [ -1   1 ]\n",
    "# Multipliée par une constante (ex: 1/h, où h est la taille de l'élément)\n",
    "\n",
    "Ke1 = [ 1.0  -1.0 ;\n",
    "       -1.0   1.0 ] # Matrice de rigidité pour l'élément 1\n",
    "\n",
    "Ke2 = [ 1.0  -1.0 ;\n",
    "       -1.0   1.0 ] # Matrice de rigidité pour l'élément 2\n",
    "\n",
    "# --- 3. Table de connectivité ---\n",
    "# Indique quels DoF globaux sont connectés par chaque élément.\n",
    "# Pour e1 (nœuds 1 et 2): ses DoF locaux 1 et 2 correspondent aux DoF globaux 1 et 2.\n",
    "# Pour e2 (nœuds 2 et 3): ses DoF locaux 1 et 2 correspondent aux DoF globaux 2 et 3.\n",
    "# C'est l'équivalent de `celldofs(cell)` dans Ferrite.jl.\n",
    "\n",
    "dofs_e1 = [1, 2] # DoF globaux de l'élément 1\n",
    "dofs_e2 = [2, 3] # DoF globaux de l'élément 2\n",
    "\n",
    "# --- 4. Fonction d'assemblage conceptuelle ---\n",
    "# Cette fonction prend une matrice globale et une matrice élémentaire,\n",
    "# et ajoute la contribution de la matrice élémentaire aux bons emplacements.\n",
    "\n",
    "function conceptual_assemble!(K_global::SparseMatrixCSC, Ke_local::Matrix{Float64}, global_dofs::Vector{Int})\n",
    "    n_local = size(Ke_local, 1) # Nombre de DoF locaux de l'élément\n",
    "    \n",
    "    # Vérification simple pour s'assurer que les dimensions correspondent\n",
    "    if n_local != length(global_dofs)\n",
    "        error(\"Mismatch between local matrix size and number of global DoFs provided.\")\n",
    "    end\n",
    "\n",
    "    # Boucle sur les DoF locaux de l'élément\n",
    "    for i_local in 1:n_local\n",
    "        i_global = global_dofs[i_local] # Convertit l'indice local en indice global\n",
    "\n",
    "        for j_local in 1:n_local\n",
    "            j_global = global_dofs[j_local] # Convertit l'indice local en indice global\n",
    "            \n",
    "            # Additionne la contribution de l'élément à la matrice globale\n",
    "            K_global[i_global, j_global] += Ke_local[i_local, j_local]\n",
    "        end\n",
    "    end\n",
    "end\n",
    "\n",
    "# --- 5. Initialisation de la matrice globale ---\n",
    "# On utilise une matrice creuse comme K_prototype dans Ferrite.jl.\n",
    "K_global = sparse(Float64[], Int[], Float64[], num_global_dofs, num_global_dofs)\n",
    "\n",
    "# --- 6. Exécution de l'assemblage pour chaque élément ---\n",
    "\n",
    "println(\"Matrice globale initiale (vide):\")\n",
    "display(K_global)\n",
    "println(\"-\"^30)\n",
    "\n",
    "println(\"Assemblage de l'élément 1 (connecte 1 et 2)...\")\n",
    "conceptual_assemble!(K_global, Ke1, dofs_e1)\n",
    "display(K_global)\n",
    "println(\"-\"^30)\n",
    "\n",
    "println(\"Assemblage de l'élément 2 (connecte 2 et 3)...\")\n",
    "conceptual_assemble!(K_global, Ke2, dofs_e2)\n",
    "display(K_global)\n",
    "println(\"-\"^30)\n",
    "\n",
    "println(\"Matrice globale finale après assemblage:\")\n",
    "display(K_global)\n",
    "println(\"-\"^30)\n",
    "\n",
    "# --- 7. Interprétation du résultat ---\n",
    "# La matrice finale devrait ressembler à:\n",
    "# [ 1.0  -1.0   0.0 ]\n",
    "# [-1.0   2.0  -1.0 ]  \n",
    "# [ 0.0  -1.0   1.0 ]"
   ]
  },
  {
   "cell_type": "code",
   "execution_count": null,
   "id": "3d481eae-972c-4f42-ad5d-bbe03e9a3059",
   "metadata": {},
   "outputs": [],
   "source": []
  }
 ],
 "metadata": {
  "kernelspec": {
   "display_name": "Julia 1.11.5",
   "language": "julia",
   "name": "julia-1.11"
  },
  "language_info": {
   "file_extension": ".jl",
   "mimetype": "application/julia",
   "name": "julia",
   "version": "1.11.5"
  }
 },
 "nbformat": 4,
 "nbformat_minor": 5
}
