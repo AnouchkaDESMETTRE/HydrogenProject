{
 "cells": [
  {
   "cell_type": "markdown",
   "id": "81e575f3-224d-4e28-abed-ab0e8d2d1f9e",
   "metadata": {},
   "source": [
    "# Geometry and Mesh for Tank \n",
    "\n",
    "To do: \n",
    "1. generate quadrilateral mesh more adapted to the flow; \n",
    "1. revolve mesh around axis to create a wedgew mesh; "
   ]
  },
  {
   "cell_type": "code",
   "execution_count": 7,
   "id": "f4c1561c-d92f-4c6e-bad2-2e2e9046138a",
   "metadata": {},
   "outputs": [],
   "source": [
    "# This script generates a simple rectangular mesh using Gmsh\n",
    "# and visualizes it directly through the Gmsh GUI.\n",
    "\n",
    "# Try to load Gmsh.jl, handling potential naming differences\n",
    "try\n",
    "    using Gmsh: gmsh\n",
    "catch\n",
    "    using gmsh # Fallback for older versions or different setups\n",
    "end"
   ]
  },
  {
   "cell_type": "code",
   "execution_count": 8,
   "id": "279d226c-c1c9-4a9d-976d-0e274a4da337",
   "metadata": {},
   "outputs": [
    {
     "name": "stdout",
     "output_type": "stream",
     "text": [
      "Info    : Meshing 1D...\n",
      "Info    : [  0%] Meshing curve 1 (Line)\n",
      "Info    : [ 30%] Meshing curve 2 (Line)\n",
      "Info    : [ 60%] Meshing curve 3 (Line)\n",
      "Info    : [ 80%] Meshing curve 4 (Line)\n",
      "Info    : Done meshing 1D (Wall 0.000770092s, CPU 0s)\n",
      "Info    : Meshing 2D...\n",
      "Info    : Meshing surface 1 (Plane, Frontal-Delaunay for Quads)\n",
      "Info    : Blossom: 2890 internal 220 closed\n",
      "Info    : Blossom recombination completed (Wall 0.049758s, CPU 0.0625s): 1000 quads, 0 triangles, 0 invalid quads, 0 quads with Q < 0.1, avg Q = 0.999918, min Q = 0.989606\n",
      "Info    : Done meshing 2D (Wall 0.144869s, CPU 0.140625s)\n",
      "Info    : 1111 nodes 1224 elements\n",
      "Info    : Writing 'long_rectangular_mesh.msh'...\n",
      "Info    : Done writing 'long_rectangular_mesh.msh'\n",
      "Mesh saved to: long_rectangular_mesh.msh\n",
      "-------------------------------------------------------\n",
      "Version       : 4.13.1\n",
      "License       : GNU General Public License\n",
      "Build OS      : Windows64-sdk\n",
      "Build date    : 19700101\n",
      "Build host    : amdci7.julia.csail.mit.edu\n",
      "Build options : 64Bit ALGLIB[contrib] ANN[contrib] Bamg Blossom Cairo DIntegration DomHex Eigen[contrib] Fltk GMP Gmm[contrib] Hxt Jpeg Kbipack MathEx[contrib] Mesh Metis[contrib] Mmg Mpeg Netgen Nii2mesh NoSocklenT ONELAB ONELABMetamodel OpenCASCADE OpenCASCADE-CAF OpenGL OpenMP OptHom Parser Plugins Png Post QuadMeshingTools QuadTri Solver TetGen/BR TinyXML2[contrib] Untangle Voro++[contrib] WinslowUntangler Zlib\n",
      "FLTK version  : 1.3.8\n",
      "OCC version   : 7.7.2\n",
      "Packaged by   : root\n",
      "Web site      : https://gmsh.info\n",
      "Issue tracker : https://gitlab.onelab.info/gmsh/gmsh/issues\n",
      "-------------------------------------------------------\n"
     ]
    }
   ],
   "source": [
    "#..1/7: initialize gmsh\n",
    "gmsh.initialize()\n",
    "gmsh.option.setNumber(\"General.Terminal\", 1) # Set terminal output verbosity\n",
    "gmsh.model.add(\"long_rectangular_mesh\") # Name the CAD model\n",
    "\n",
    "#..2/7: generate geometry parameters\n",
    "h = 0.01 # Characteristic length for mesh elements\n",
    "# Adjusted dimensions for a long rectangle, based on tank and nozzle example\n",
    "Lx = 1.0 # Length of the rectangle in x-direction (corresponds to 'L' in tank example)\n",
    "Ly = 0.1 # Height of the rectangle in y-direction (corresponds to 'R' in tank example)\n",
    "\n",
    "#..define corner points of the rectangle via (x,y,z) coordinates\n",
    "p1 = gmsh.model.geo.addPoint(0.0, 0.0, 0.0, h, 1) # Bottom-left\n",
    "p2 = gmsh.model.geo.addPoint(Lx,  0.0, 0.0, h, 2) # Bottom-right\n",
    "p3 = gmsh.model.geo.addPoint(Lx,  Ly,  0.0, h, 3) # Top-right\n",
    "p4 = gmsh.model.geo.addPoint(0.0, Ly,  0.0, h, 4) # Top-left\n",
    "\n",
    "#..define lines (edges) connecting the points to form the sides\n",
    "l1 = gmsh.model.geo.addLine(p1, p2, 1) # Bottom side\n",
    "l2 = gmsh.model.geo.addLine(p2, p3, 2) # Right side\n",
    "l3 = gmsh.model.geo.addLine(p3, p4, 3) # Top side\n",
    "l4 = gmsh.model.geo.addLine(p4, p1, 4) # Left side\n",
    "\n",
    "#..create the closed curve loop from the lines\n",
    "curve_loop = gmsh.model.geo.addCurveLoop([l1, l2, l3, l4], 1)\n",
    "\n",
    "#..define the plane surface using the curve loop\n",
    "plane_surface = gmsh.model.geo.addPlaneSurface([curve_loop], 1)\n",
    "\n",
    "#..3/7: synchronize the CAD model\n",
    "gmsh.model.geo.synchronize()\n",
    "\n",
    "#..4/7: assign physical groups\n",
    "# These groups are useful for applying boundary conditions in simulations\n",
    "gmsh.model.addPhysicalGroup(1, [l1], -1, \"Gamma_bottom\")\n",
    "gmsh.model.addPhysicalGroup(1, [l2], -1, \"Gamma_right\")\n",
    "gmsh.model.addPhysicalGroup(1, [l3], -1, \"Gamma_top\")\n",
    "gmsh.model.addPhysicalGroup(1, [l4], -1, \"Gamma_left\") # e.g., could be an inlet\n",
    "gmsh.model.addPhysicalGroup(2, [plane_surface], -1, \"Domain\") # The main domain\n",
    "\n",
    "#..5/7: generate two-dimensional mesh\n",
    "# Set mesh algorithm and recombination options for quadrilaterals\n",
    "gmsh.option.setNumber(\"Mesh.Algorithm\", 8) # Netgen algorithm, often good for quads\n",
    "gmsh.option.setNumber(\"Mesh.RecombineAll\", 1) # Tell Gmsh to recombine triangles into quads\n",
    "gmsh.model.geo.mesh.setRecombine(2, plane_surface) # Apply recombination specifically to this surface\n",
    "\n",
    "gmsh.model.mesh.generate(2) # Generate 2D mesh\n",
    "\n",
    "#..6/7: write mesh to file and visualize the mesh\n",
    "mesh_filename = \"long_rectangular_mesh.msh\"\n",
    "gmsh.write(mesh_filename) # Save the mesh to a .msh file\n",
    "println(\"Mesh saved to: $mesh_filename\")\n",
    "\n",
    "gmsh.fltk.run() # Open the Gmsh GUI to display the generated mesh\n",
    "\n",
    "#..7/7: finalize gmsh\n",
    "gmsh.finalize()\n"
   ]
  },
  {
   "cell_type": "code",
   "execution_count": null,
   "id": "c842c5c0-1c52-45c0-a853-6d27c781e4eb",
   "metadata": {},
   "outputs": [],
   "source": []
  }
 ],
 "metadata": {
  "kernelspec": {
   "display_name": "Julia 1.11.5",
   "language": "julia",
   "name": "julia-1.11"
  },
  "language_info": {
   "file_extension": ".jl",
   "mimetype": "application/julia",
   "name": "julia",
   "version": "1.11.5"
  }
 },
 "nbformat": 4,
 "nbformat_minor": 5
}
