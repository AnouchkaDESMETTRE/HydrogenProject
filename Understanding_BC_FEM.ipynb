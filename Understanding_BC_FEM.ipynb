{
 "cells": [
  {
   "cell_type": "markdown",
   "id": "87d81cac-2872-49d1-aa5f-117098ef5b2d",
   "metadata": {},
   "source": [
    "# Implementing Boundary Conditions: From Linear to Nonlinear in FEM"
   ]
  },
  {
   "cell_type": "code",
   "execution_count": 9,
   "id": "40c4559e-d23e-40fc-a53d-a9e57dbc3686",
   "metadata": {},
   "outputs": [],
   "source": [
    "using Ferrite\n",
    "using SparseArrays\n",
    "using Plots\n",
    "using LinearAlgebra"
   ]
  },
  {
   "cell_type": "code",
   "execution_count": 10,
   "id": "5f75808a-eea7-4668-8340-0cf1a75ceb3b",
   "metadata": {},
   "outputs": [],
   "source": [
    "# deliberately use include to include code \n",
    "# see e.g. https://docs.julialang.org/en/v1/manual/code-loading/ \n",
    "include(\"flemish-fish.jl\")"
   ]
  },
  {
   "cell_type": "code",
   "execution_count": 11,
   "id": "02b3228c-11f7-4606-a28e-ef602c9060a8",
   "metadata": {},
   "outputs": [
    {
     "name": "stdout",
     "output_type": "stream",
     "text": [
      "search: \u001b[0m\u001b[1mf\u001b[22m\u001b[0m\u001b[1md\u001b[22m\u001b[0m\u001b[1mm\u001b[22m\u001b[0m\u001b[1mm\u001b[22m\u001b[0m\u001b[1me\u001b[22m\u001b[0m\u001b[1ms\u001b[22m\u001b[0m\u001b[1mh\u001b[22m\n",
      "\n"
     ]
    },
    {
     "data": {
      "text/latex": [
       "Generates a one-dimensional uniform mesh between point 0 and 1\n",
       "\n",
       "Input N(1) is number of elements. Output is the one-dimensional mesh. \n",
       "\n",
       "\\href{@ref}{\\texttt{mesh(::NTuple\\{1,Int\\})}}\n",
       "\n",
       "\\rule{\\textwidth}{1pt}\n",
       "Generates a two-dimensional mesh between the points (0,0) and (1,1) \n",
       "\n",
       "Input N(1) and N(2) are the number of elements in x and y direction. Output is the two-dimensional mesh. \n",
       "\n",
       "\\href{@ref}{\\texttt{mesh(::NTuple\\{2,Int\\})}}\n",
       "\n",
       "\\rule{\\textwidth}{1pt}\n",
       "Generates a two-dimensional mesh between the points a and b \n",
       "\n",
       "Input N(1) and N(2) are the number of elements in x and y direction. Output is the two-dimensional mesh. \n",
       "\n",
       "\\href{@ref}{\\texttt{mesh(::NTuple\\{2,Int\\},::Point2D,::Point2D)}}\n",
       "\n"
      ],
      "text/markdown": [
       "Generates a one-dimensional uniform mesh between point 0 and 1\n",
       "\n",
       "Input N(1) is number of elements. Output is the one-dimensional mesh. \n",
       "\n",
       "[`mesh(::NTuple{1,Int})`](@ref)\n",
       "\n",
       "---\n",
       "\n",
       "Generates a two-dimensional mesh between the points (0,0) and (1,1) \n",
       "\n",
       "Input N(1) and N(2) are the number of elements in x and y direction. Output is the two-dimensional mesh. \n",
       "\n",
       "[`mesh(::NTuple{2,Int})`](@ref)\n",
       "\n",
       "---\n",
       "\n",
       "Generates a two-dimensional mesh between the points a and b \n",
       "\n",
       "Input N(1) and N(2) are the number of elements in x and y direction. Output is the two-dimensional mesh. \n",
       "\n",
       "[`mesh(::NTuple{2,Int},::Point2D,::Point2D)`](@ref)\n"
      ],
      "text/plain": [
       "  Generates a one-dimensional uniform mesh between point 0 and 1\n",
       "\n",
       "  Input N(1) is number of elements. Output is the one-dimensional mesh.\n",
       "\n",
       "  \u001b[36mmesh(::NTuple{1,Int})\u001b[39m\n",
       "\n",
       "  ────────────────────────────────────────────────────────────────────────────\n",
       "\n",
       "  Generates a two-dimensional mesh between the points (0,0) and (1,1)\n",
       "\n",
       "  Input N(1) and N(2) are the number of elements in x and y direction. Output\n",
       "  is the two-dimensional mesh.\n",
       "\n",
       "  \u001b[36mmesh(::NTuple{2,Int})\u001b[39m\n",
       "\n",
       "  ────────────────────────────────────────────────────────────────────────────\n",
       "\n",
       "  Generates a two-dimensional mesh between the points a and b\n",
       "\n",
       "  Input N(1) and N(2) are the number of elements in x and y direction. Output\n",
       "  is the two-dimensional mesh.\n",
       "\n",
       "  \u001b[36mmesh(::NTuple{2,Int},::Point2D,::Point2D)\u001b[39m"
      ]
     },
     "execution_count": 11,
     "metadata": {},
     "output_type": "execute_result"
    }
   ],
   "source": [
    "?fdmmesh"
   ]
  },
  {
   "cell_type": "markdown",
   "id": "f094f4a3-db6f-4d23-a8b7-14284519bfa5",
   "metadata": {},
   "source": [
    "## Introduction "
   ]
  },
  {
   "cell_type": "markdown",
   "id": "bb7c3e44-b779-4fff-8313-572f5a91736a",
   "metadata": {},
   "source": [
    "This notebook outlines a structured approach to understanding and implementing boundary conditions (BCs) in numerical simulations. O\n",
    "\n",
    "1.  **Hand-Coding Linear Dirichlet Boundary Conditions:** We will start by examining how existing libraries typically apply linear Dirichlet BCs, where a specific degree of freedom $\\mathbf{u}_i$ is set to a fixed value $C$ (i.e., $\\mathbf{u}_i = C$). Our focus will be on understanding how this condition translates into direct modifications of the global stiffness matrix $\\mathbf{K}$ and the right-hand side vector $\\mathbf{f}$. We will then proceed to \"hand-code\" this modification ourselves, learning how specific rows and columns of these matrices are altered to impose the constraint.\n",
    "\n",
    "2.  **Implementing Affine Constraints:** Building upon the understanding of linear Dirichlet conditions, we will extend our capabilities to more general **affine constraints**. These are linear relationships involving multiple degrees of freedom, expressed as $\\sum_{j} a_j \\mathbf{u}_j = C$. A common example is enforcing a mean value constraint on a field variable over a certain region. This step will further develop our intuition for how linear dependencies are embedded within the algebraic system.\n",
    "\n",
    "3.  **Extending to Nonlinear Boundary Conditions via Newton's Method:** Finally, we will apply the insights gained from handling linear constraints to the realm of nonlinear boundary conditions. For a nonlinear problem, the governing equations, including boundary conditions, form a system of nonlinear algebraic equations, $\\mathbf{F}(\\mathbf{u}) = \\mathbf{0}$. We will solve this system using the Newton-Raphson method, which relies on solving a linearized system at each iteration: $J(\\mathbf{u}^k) \\mathbf{\\delta u} = -\\mathbf{F}(\\mathbf{u}^k)$. Here, $J(\\mathbf{u}^k)$ is the Jacobian matrix. Our key focus will be on how the nonlinear boundary condition (e.g., $[\\rho_g(0)]^2 = 2$ from our previous work) is integrated into the residual function $\\mathbf{F}(\\mathbf{u})$ and, crucially, how its linearization appears within the Jacobian $J(\\mathbf{u})$. This consolidates the understanding that even a nonlinear boundary condition translates to a linear contribution to the Jacobian system solved at each Newton iteration."
   ]
  },
  {
   "cell_type": "markdown",
   "id": "4eb6273f-f252-4f2f-bd2d-50c3979f1682",
   "metadata": {},
   "source": [
    "## Section 1 : Hand-Coded Linear Dirichlet Boundary Condition "
   ]
  },
  {
   "cell_type": "markdown",
   "id": "b1852d9e-82db-4c6f-bf4d-785fc01fd749",
   "metadata": {},
   "source": [
    "###  How linear Dirichlet boundary conditions are implemented using Ferrite ?"
   ]
  },
  {
   "cell_type": "markdown",
   "id": "70990d8b-2e6a-467c-b346-5be3823d357f",
   "metadata": {},
   "source": [
    "In this section, we will revisit our existing code from **section 4.1** of the \"HydrogenProject\" notebook : https://github.com/AnouchkaDESMETTRE/HydrogenProject/blob/main/HydrogenProject.ipynb, which addresses the steady-state gas density absorption equation:\n",
    "\n",
    "$$D \\frac{d^2 \\rho_g}{dz^2} + u_z \\frac{d \\rho_g}{dz} + \\dot{m} = 0$$\n",
    "\n",
    "Our primary focus here will be to deeply understand how linear Dirichlet boundary conditions are implemented using Ferrite's `apply!(K,f,ch)` for FEM). Specifically, we will investigate how the system matrix $K$ and the right-hand side vector $f$ are directly modified. The goal is to explicitly \"hand-code\" the implementation of this Dirichlet boundary condition. This means we will bypass the high-level `applybc!` function for the Dirichlet constraint and instead directly manipulate the relevant row(s) of the discretized matrix and vector to enforce the condition $\\rho_g(z_{boundary}) = C$. This exercise will provide a granular understanding of the algebraic changes required to impose such constraints."
   ]
  },
  {
   "cell_type": "code",
   "execution_count": 36,
   "id": "d10b93b5-6328-4793-900a-2743c6505e4d",
   "metadata": {},
   "outputs": [
    {
     "name": "stdout",
     "output_type": "stream",
     "text": [
      "Matrice K AVANT apply! (N=5):\n"
     ]
    },
    {
     "data": {
      "text/plain": [
       "6×6 Matrix{Float64}:\n",
       "  6.255  -6.255   0.0     0.0     0.0     0.0\n",
       " -6.245  12.5    -6.255   0.0     0.0     0.0\n",
       "  0.0    -6.245  12.5    -6.255   0.0     0.0\n",
       "  0.0     0.0    -6.245  12.5    -6.255   0.0\n",
       "  0.0     0.0     0.0    -6.245  12.5    -6.255\n",
       "  0.0     0.0     0.0     0.0    -6.245   6.245"
      ]
     },
     "metadata": {},
     "output_type": "display_data"
    },
    {
     "name": "stdout",
     "output_type": "stream",
     "text": [
      "\n",
      "\n",
      "Vecteur f AVANT apply! (N=5):\n"
     ]
    },
    {
     "data": {
      "text/plain": [
       "6-element Vector{Float64}:\n",
       " 0.039999999999999994\n",
       " 0.07999999999999999\n",
       " 0.07999999999999999\n",
       " 0.07999999999999999\n",
       " 0.08\n",
       " 0.04"
      ]
     },
     "metadata": {},
     "output_type": "display_data"
    },
    {
     "name": "stdout",
     "output_type": "stream",
     "text": [
      "---------------------------------------------------------\n"
     ]
    }
   ],
   "source": [
    "# Problem parameters\n",
    "L = 0.8\n",
    "D = 1.0 \n",
    "uz = 0.01\n",
    "m_dot = 0.5\n",
    "N = 5\n",
    "\n",
    "interpolation = Lagrange{RefLine, 1}()\n",
    "qr = QuadratureRule{RefLine}(2)\n",
    "cell_values = CellValues(qr, interpolation)\n",
    "\n",
    "# Définition précise du domaine\n",
    "left = Vec((0.,))\n",
    "right = Vec((L,))\n",
    "grid = generate_grid(Ferrite.Line, (N,), left, right)\n",
    "\n",
    "dh = DofHandler(grid)\n",
    "add!(dh, :rho_g, interpolation)\n",
    "close!(dh)\n",
    "\n",
    "K = allocate_matrix(dh)\n",
    "f = zeros(ndofs(dh))\n",
    "\n",
    "function assemble!(K, f, cv, dh, D, uz, m_dot)\n",
    "    assembler = start_assemble(K, f)\n",
    "    for cell in CellIterator(dh)\n",
    "        Ferrite.reinit!(cv, cell)\n",
    "        n_basefuncs = getnbasefunctions(cv)\n",
    "        Ke = zeros(n_basefuncs, n_basefuncs)\n",
    "        fe = zeros(n_basefuncs)\n",
    "        for q in 1:getnquadpoints(cv)\n",
    "            dΩ = getdetJdV(cv, q)\n",
    "            for i in 1:n_basefuncs\n",
    "                ϕ = shape_value(cv, q, i)\n",
    "                ∇ϕ = shape_gradient(cv, q, i)[1]\n",
    "                for j in 1:n_basefuncs\n",
    "                    ∇ϕ_j = shape_gradient(cv, q, j)[1]\n",
    "                    Ke[i, j] += (D * ∇ϕ * ∇ϕ_j - uz * ϕ * ∇ϕ_j) * dΩ\n",
    "                end\n",
    "                fe[i] += m_dot * ϕ * dΩ\n",
    "            end\n",
    "        end\n",
    "        Ferrite.assemble!(assembler, celldofs(cell), Ke, fe)\n",
    "    end\n",
    "end\n",
    "\n",
    "assemble!(K, f, cell_values, dh, D, uz, m_dot)\n",
    "\n",
    "ch = ConstraintHandler(dh)\n",
    "dbc1 = Dirichlet(:rho_g, [1], (x, t) -> 1.0) # Appliquer au nœud 1\n",
    "dbc2 = Dirichlet(:rho_g, [Ferrite.getnnodes(grid)], (x, t) -> 0.0) # Appliquer au dernier nœud\n",
    "add!(ch, dbc1)\n",
    "add!(ch, dbc2)\n",
    "close!(ch)\n",
    "\n",
    "# --- Affichage AVANT apply! ---\n",
    "println(\"Matrice K AVANT apply! (N=$N):\")\n",
    "display(Array(K)) # Convertir en Dense Array pour une meilleure visualisation des zéros\n",
    "println(\"\\n\")\n",
    "println(\"Vecteur f AVANT apply! (N=$N):\")\n",
    "display(f)\n",
    "println(\"---------------------------------------------------------\")\n",
    "\n",
    "apply!(K, f, ch)\n",
    "\n",
    "rho_g = K \\ f\n",
    "\n",
    "rho_g_computed_at_nodes = evaluate_at_grid_nodes(dh, rho_g, :rho_g);\n",
    "\n",
    "# Génération des coordonnées z à partir des nœuds du maillage\n",
    "z_coords = [grid.nodes[node].x[1] for node in 1:length(grid.nodes)];\n",
    "\n",
    "## Initialiser le plot\n",
    "#p_solution = plot(title=\"FEM Solution (N=$N)\",\n",
    "#    xlabel=\"z (m)\", ylabel=\"ρg (kg/m³)\", lw=2, legend=false) # legend=false car une seule courbe\n",
    "\n",
    "## Plot de la solution FEM\n",
    "#plot!(p_solution, z_coords, rho_g_computed_at_nodes, label=\"FEM Solution\", lw=2, markershape=:circle, markersize=3)\n",
    "\n",
    "## Afficher le plot\n",
    "#display(p_solution)"
   ]
  },
  {
   "cell_type": "markdown",
   "id": "b0f95a53-7d99-4dfb-8aa2-87943a67b025",
   "metadata": {},
   "source": [
    "**Stifness Matrix $K$ BEFORE `apply!`**\n",
    "\n",
    "The values of the coefficients directly reflect the assembly of the element matrices for diffusion ($D/h$) and convection ($u\\_z/2$).\n",
    "\n",
    "* $K[1,1] = 6.255$ corresponds to the sum of diffusion and convection contributions for the first node: $\\left(\\frac{D}{h} + \\frac{u_z}{2}\\right) = (1.0/0.16 + 0.01/2) = 6.25 + 0.005 = 6.255$.\n",
    "\n",
    "* Similarly, $K[1,2] = -6.255$ corresponds to $\\left(-\\frac{D}{h} - \\frac{u_z}{2}\\right) = (-1.0/0.16 - 0.01/2) = -6.25 - 0.005 = -6.255$.\n",
    "\n",
    "* Diagonal terms for internal nodes, such as $K[2,2] = 12.5$, are approximately $\\frac{2D}{h}$, as these nodes receive contributions from two adjacent elements ($2 \\times 6.25 = 12.5$).\n",
    "\n",
    "**Force Vector $f$ BEFORE `apply!`**\n",
    "\n",
    "The values of the components are calculated by the integral $\\int \\dot{m} \\phi_i \\, d\\Omega$.\n",
    "\n",
    "* For the nodes at the domain boundaries (nodes 1 and 6), the contribution is $\\dot{m} \\cdot \\frac{h}{2} = 0.5 \\cdot (0.8/5) / 2 = 0.04$. This is observed for $f[6]$ and is very close for $f[1]$.\n",
    "\n",
    "* For internal nodes (nodes 2, 3, 4, 5), the contribution is the sum of contributions from two adjacent elements, i.e., $\\dot{m} \\cdot h = 0.5 \\cdot 0.16 = 0.08$. This is verified for $f[2]$ through $f[5]$."
   ]
  },
  {
   "cell_type": "code",
   "execution_count": 37,
   "id": "eb369ac8-f453-4de5-bc25-e96ae70d0d34",
   "metadata": {},
   "outputs": [
    {
     "name": "stdout",
     "output_type": "stream",
     "text": [
      "Matrice K APRÈS apply! (N=5):\n"
     ]
    },
    {
     "data": {
      "text/plain": [
       "6×6 Matrix{Float64}:\n",
       " 10.4167   0.0     0.0     0.0     0.0     0.0\n",
       "  0.0     12.5    -6.255   0.0     0.0     0.0\n",
       "  0.0     -6.245  12.5    -6.255   0.0     0.0\n",
       "  0.0      0.0    -6.245  12.5    -6.255   0.0\n",
       "  0.0      0.0     0.0    -6.245  12.5     0.0\n",
       "  0.0      0.0     0.0     0.0     0.0    10.4167"
      ]
     },
     "metadata": {},
     "output_type": "display_data"
    },
    {
     "name": "stdout",
     "output_type": "stream",
     "text": [
      "\n",
      "\n",
      "Vecteur f APRÈS apply! (N=5):\n"
     ]
    },
    {
     "data": {
      "text/plain": [
       "6-element Vector{Float64}:\n",
       " 10.416666666666664\n",
       "  6.324999999999999\n",
       "  0.07999999999999999\n",
       "  0.07999999999999999\n",
       "  0.08\n",
       "  0.0"
      ]
     },
     "metadata": {},
     "output_type": "display_data"
    },
    {
     "name": "stdout",
     "output_type": "stream",
     "text": [
      "\n",
      "\n"
     ]
    }
   ],
   "source": [
    "# --- Affichage APRÈS apply! ---\n",
    "println(\"Matrice K APRÈS apply! (N=$N):\")\n",
    "display(Array(K)) # Convertir en Dense Array\n",
    "println(\"\\n\")\n",
    "println(\"Vecteur f APRÈS apply! (N=$N):\")\n",
    "display(f)\n",
    "println(\"\\n\")\n",
    "# -----------------------------"
   ]
  },
  {
   "cell_type": "markdown",
   "id": "48205cf2-5bab-4857-98b4-e7b5d8a3f24d",
   "metadata": {},
   "source": [
    "The applied Dirichlet boundary conditions are $\\\\rho\\_g(z=0)=1.0$ (node 1) and $\\\\rho\\_g(z=L)=0.0$ (node 6).\n",
    "\n",
    "**Stifness Matrix $K$ AFTER `apply!`**\n",
    "\n",
    "* The **first row** of $K$ (corresponding to node 1) has been significantly modified. $K[1,1]$ changed from $6.255$ to $10.4167$, and all other terms in this row ($K[1,2]$ to $K[1,6]$) became $0.0$.\n",
    "  \n",
    "* Similarly, the **last row** (corresponding to node 6) saw $K[6,6]$ change from $6.245$ to $10.4167$, with other terms in the row ($K[6,1]$ to $K[6,5]$) set to $0.0$.\n",
    "\n",
    "* The **columns** corresponding to the constrained nodes (column 1 and column 6) have also been modified, with terms like $K[2,1]$ and $K[5,6]$ being set to $0.0$.\n",
    "\n",
    "**Force Vector $f$ AFTER `apply!`**\n",
    "\n",
    "* $f[1]$ changed from $0.0399...$ (source term) to $10.4166...$. This new value is the imposed boundary condition value at node 1 (which is $1.0$) multiplied by the factor applied to the diagonal of $K$ (here $10.4167$). Indeed, the equation for node 1 now effectively becomes $10.4167 \\cdot \\rho_{g,1} = 10.41666...$, which implies $\\\\rho\\_{g,1} = 1.0$.\n",
    "\n",
    "`apply!` implements strong Dirichlet boundary conditions using the *\"large value on the diagonal method\"*. This is a practical implementation of the \"penalty method (see [1]) : \n",
    "For each constrained degree of freedom $i$ with imposed value $C$:\n",
    "1.  Set $K[i,i]$ to a large factor (e.g., $10.4167$) and $K[i,j]$ to $0.0$ for $j \\neq i$.\n",
    "2.  Set $f[i]$ to (large factor) $\\cdot C$.\n",
    "3.  Adjust other $f[j]$ terms by transferring contributions from the constrained node ($f[j] = f[j] - K_{\\text{original}}[j,i] \\cdot C$).\n",
    "\n",
    "\n",
    "* $f[6]$ changed from $0.04$ (source term) to $0.0$. Similarly, this is the BC value at node 6 (which is $0.0$) multiplied by the diagonal factor.\n",
    "\n",
    "* Impact on Internal Nodes: The internal nodes ($f[3]$, $f[4]$, $f[5]$) retain their initial values from the source term, as their equations are not directly affected by this \"row/column modification\" method for the boundary nodes.\n",
    "\n",
    "* However, $f[2]$ is affected by the treatment of the boundary condition at node 1. This is due to the \"transfer\" of contributions from the constrained node to the right-hand side of the equations for adjacent unconstrained nodes. \n",
    "\n",
    "Before applying the Dirichlet boundary condition at node 1, the second equation in our linear system $\\mathbf{K}\\mathbf{u} = \\mathbf{f}$ (corresponding to node 2) would look like this:\n",
    "\n",
    "$$K[2,1]\\rho_{g,1} + K[2,2]\\rho_{g,2} + K[2,3]\\rho_{g,3} = f_{\\text{original}}[2]$$\n",
    "\n",
    "where $f_{\\text{original}}[2]$ is the value on the right-hand side for node 2, arising solely from the integration of the source term $\\dot{m}$.\n",
    "\n",
    "When we impose a Dirichlet boundary condition $\\rho_{g,1} = C_1$ (in our case, $C_1 = 1.0$), the value of $\\rho_{g,1}$ is now known. The strategy used by the `apply!` function (and common in Finite Element Method implementations) is to \"remove\" the terms whose values are already known from the left-hand side of the equations (see [2]). The term $K[2,1]\\rho_{g,1}$ is a contribution whose value is known (since $K[2,1]$ is a matrix coefficient and $\\rho_{g,1}$ is our imposed value $C_1$). This known contribution is then moved from the left-hand side to the right-hand side of the equation : \n",
    "\n",
    "$$K[2,2]\\rho_{g,2} + K[2,3]\\rho_{g,3} = f_{\\text{original}}[2] - K_{\\text{original}}[2,1]\\rho_{g,1}$$\n",
    "\n",
    "Thus, the new value of $f[2]$ (let's call it $f_{\\text{new}}[2]$) is calculated as follows:\n",
    "\n",
    "$$f_{\\text{new}}[2] = f_{\\text{original}}[2] - K_{\\text{original}}[2,1] \\cdot C_1$$\n",
    "\n",
    "Let's verify this with the values we obtained in our output:\n",
    "* $f_{\\text{original}}[2] = 0.07999999999999999 \\approx 0.08$\n",
    "* $K_{\\text{original}}[2,1] = -6.245$\n",
    "* $C_1 = 1.0$ (the value of $\\rho_g$ at node 1 imposed by the BC)\n",
    "\n",
    "Substituting these values:\n",
    "$$f_{\\text{new}}[2] = 0.08 - (-6.245) \\cdot 1.0$$\n",
    "$$f_{\\text{new}}[2] = 0.08 + 6.245 = 6.325$$\n",
    "\n",
    "And $f[2]$ after `apply!` is $6.324999999999999$, which is almost exactly $6.325$.\n",
    "\n",
    "\n",
    "\n",
    "[1] Dr.Y.DILIPKUMAR (2025). Finite Element Analysis [https://mrcet.com/downloads/digital_notes/ME/IV%20year/Finite%20Element%20Analysis.pdf](https://mrcet.com/downloads/digital_notes/ME/IV%20year/Finite%20Element%20Analysis.pdf)]\n",
    "\n",
    "[2] : Pr. S. Deparis. (2004). Numerical Analysis of Axisymmetric Flows and Methods for Fluid-Structure Interaction Arising in Blood Flow Simulation (Thèse No 2965). École Polytechnique Fédérale de Lausanne (EPFL)"
   ]
  },
  {
   "cell_type": "markdown",
   "id": "9c878e05-d1f7-4754-946b-d26fb933c243",
   "metadata": {},
   "source": [
    "### Manual Implementation of Linear Dirichlet Boundary Conditions"
   ]
  },
  {
   "cell_type": "markdown",
   "id": "100bfa2a-ab94-4225-b15d-8d5029433893",
   "metadata": {},
   "source": [
    "The observation of `apply!`'s effect on $K$ and $f$ reveals the commonly used strategy for implementing linear Dirichlet boundary conditions (where a value is imposed for a Degree of Freedom). To implement this \"by hand\" in our code, we must follow these steps for each DoF $i$ where a value $C$ is imposed ($u_i = C$):\n",
    "\n",
    "1.  **Modify Row $i$ of the Stiffness Matrix $K$:**\n",
    "\n",
    "      * Set the diagonal value $K[i,i]$ to a non-zero value. This is a \"large value\" (as observed with Ferrite, e.g., $10.4167$) to ensure numerical stability and diagonal dominance, especially when dealing with floating-point arithmetic.\n",
    "      \n",
    "      * Set all other elements in row $i$ (i.e., $K[i,j]$ for $j \\neq i$) to $0.0$.\n",
    "\n",
    "2.  **Modify Column $i$ of the Stiffness Matrix $K$:**\n",
    "\n",
    "      * For each row $j$ where $j \\neq i$, set the off-diagonal element $K[j,i]$ to $0.0$. This ensures that the equation for node $j$ does not explicitly depend on the unknown value of $u_i$ (which is already known and imposed).\n",
    "\n",
    "3.  **Modify the Force Vector $f$:**\n",
    "\n",
    "      * Set the element $f[i]$ to the imposed value $C$. If a \"large value\" factor (like $10.4167$) was used for $K[i,i]$, then $f[i]$ should be set to $\\text{factor} \\cdot C$. This ensures that the $i$-th equation becomes $\\text{factor} \\cdot u_i = \\text{factor} \\cdot C$, directly forcing $u_i= C$.\n",
    "      \n",
    "      * If we performed step 2 (setting column $i$ to zero), we must transfer the contribution of the known boundary condition value $C$ to the right-hand side (vector $f$) of the equations for other nodes. For each row $j$ where $j \\neq i$:\n",
    "        $$f[j]_{\\text{new}} = f[j]_{\\text{original}} - K_{\\text{original}}[j,i] \\cdot C$$\n",
    "        where $K\\_{\\text{original}}[j,i]$ is the value of the matrix element before setting $K[j,i]$ to zero. This precisely accounts for the known value of $u_i$ in the equations of connected nodes.\n",
    "\n",
    "These steps ensure that the equation for the constrained degree of freedom becomes trivially satisfied by the imposed value, while its influence on other equations is correctly accounted for, leading to a well-posed system for the remaining unknown degrees of freedom."
   ]
  },
  {
   "cell_type": "markdown",
   "id": "c98f1550-9f7e-4c7e-93c5-d6bb9a75bbb0",
   "metadata": {},
   "source": [
    "# Section 2: Affine Constraints as Boundary Conditions "
   ]
  },
  {
   "cell_type": "markdown",
   "id": "a1be4579-7aaf-4bdd-972f-0ac0c7d1b636",
   "metadata": {},
   "source": [
    "# Section 3: Extension to the Non-Linear Case "
   ]
  },
  {
   "cell_type": "code",
   "execution_count": null,
   "id": "df70c10f-0724-4928-8360-efe005358b1a",
   "metadata": {},
   "outputs": [],
   "source": []
  },
  {
   "cell_type": "code",
   "execution_count": null,
   "id": "ee903f57-7eff-4911-b7a3-609c6d9221cd",
   "metadata": {},
   "outputs": [],
   "source": []
  }
 ],
 "metadata": {
  "kernelspec": {
   "display_name": "Julia 1.11.5",
   "language": "julia",
   "name": "julia-1.11"
  },
  "language_info": {
   "file_extension": ".jl",
   "mimetype": "application/julia",
   "name": "julia",
   "version": "1.11.5"
  }
 },
 "nbformat": 4,
 "nbformat_minor": 5
}
