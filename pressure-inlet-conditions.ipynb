{
 "cells": [
  {
   "cell_type": "markdown",
   "id": "4354273a-a350-4ebd-ae10-06d7b5dbdca4",
   "metadata": {},
   "source": [
    "# Total Pressure Inlet Condition "
   ]
  },
  {
   "cell_type": "code",
   "execution_count": 1,
   "id": "7d5c9100-841a-4264-8c8a-c7d3283af1f3",
   "metadata": {},
   "outputs": [],
   "source": [
    "using Ferrite\n",
    "using SparseArrays\n",
    "using LinearAlgebra # provides mul! \n",
    "using UnPack # added for time integration using DifferentialEquations.jl \n",
    "using OrdinaryDiffEq # added for time integration using DifferentialEquations.jl\n",
    "using DifferentialEquations # added for time integration using DifferentialEquations.jl\n",
    "using WriteVTK\n",
    "using Plots "
   ]
  },
  {
   "cell_type": "markdown",
   "id": "b821293e-5516-415d-ae48-3dc6543f120c",
   "metadata": {
    "jp-MarkdownHeadingCollapsed": true
   },
   "source": [
    "## Section 1: Introduction "
   ]
  },
  {
   "cell_type": "markdown",
   "id": "317d063b-e69d-44af-9f51-c8230942904c",
   "metadata": {
    "jp-MarkdownHeadingCollapsed": true
   },
   "source": [
    "The <b>total pressure inlet condition</b> imposes that on the inlet patch $p_{total} = p_{static} + p_{dynamic}$. We recall that only total quantities are conserved. The condition implies that \n",
    "$p_{total} = p_{static} + 0.5 \\, \\rho \\, \\vec{v} \\cdot \\vec{v}$, where $p_{static}$ is the pressure solved for in the Navier-Stokes model. Physically speaking, we have that \n",
    "\n",
    "<b>Initial Pressure Difference</b>: If the inlet pressure (total pressure) is higher than the initial pressure inside the vessel, fluid flows into the vessel, increasing the internal pressure. This flow is driven by the pressure gradient between the inlet and the pressure inside the reservoir.\n",
    "What happens next:\n",
    "\n",
    "<b>Pressure Equilibration</b>: As fluid enters the closed vessel, the inner static pressure rises. For incompressible flow (or compressible flow within a rigid reservoir), the pressure increase is directly related to the added mass. For compressible fluids, density changes also contribute to pressure buildup and must be taken into account.\n",
    "\n",
    "<b>Dynamic to Static Pressure Transition</b>: The inlet's total pressure includes static and dynamic components. As the vessel's internal static pressure approaches the inlet's total pressure, the dynamic pressure (velocity-dependent term) diminishes, slowing the flow.\n",
    "\n",
    "<b>Steady-State Condition</b>: When the vessel's static pressure equals the inlet's total pressure, the pressure gradient driving the flow vanishes. At this point, the inflow velocity reduces to zero, and the system reaches a steady state with no net flow. See also, [this video](https://www.youtube.com/watch?v=Er2j5Kq17as)\n",
    "\n",
    "The total pressure inlet condition is standard in various packages. These include \n",
    "[Fluent Users Guide](https://www.afs.enea.it/project/neptunius/docs/fluent/html/ug/node239.htm) and [OpenFoam Example](https://doc.openfoam.com/2306/tools/processing/boundary-conditions/rtm/derived/inletOutlet/totalPressure/). In this notebook we explore the implementation of this non-linear boundary condition is an existing FEM solver.   "
   ]
  },
  {
   "cell_type": "markdown",
   "id": "4ba5e695-5ab7-4c51-86f9-5b1cb176245d",
   "metadata": {},
   "source": [
    "## Section 2: Linear Scalar Diffusion  "
   ]
  },
  {
   "cell_type": "markdown",
   "id": "7a3481f8-244e-44b3-a790-c87db73267b7",
   "metadata": {},
   "source": [
    "### Section 2.1: Model Problem "
   ]
  },
  {
   "cell_type": "markdown",
   "id": "b9c29d7e-2a19-4c5c-9798-c971a3a9b9fc",
   "metadata": {},
   "source": [
    "**The Poisson Equation**\n",
    "\n",
    "$$-\\nabla^2 u(\\mathbf{x}) = f(\\mathbf{x}) \\quad \\text{on } \\Omega$$\n",
    "\n",
    "Where:\n",
    "* $\\mathbf{x}$ represents the spatial coordinates $(x, y)$ in our 2D case.\n",
    "* $\\nabla^2$ is the Laplacian operator, defined as $\\frac{\\partial^2}{\\partial x^2} + \\frac{\\partial^2}{\\partial y^2}$. It describes the diffusion or distribution of $u$.\n",
    "* $f(\\mathbf{x})$ is a known source term.\n",
    "\n",
    "\n",
    "**The Domain and Boundary Conditions (BCs)**\n",
    "\n",
    "Our computational domain $\\Omega$ is a 2D rectangle. To solve the Poisson equation, we must specify boundary conditions (BCs) on the boundary $\\partial \\Omega$ of this domain. The provided code implements the following conditions:\n",
    "\n",
    "1.  **Implicit Boundary Conditions on Other Walls:**\n",
    "\n",
    "    While the code specifically sets a condition on the \"left\" side, for a scalar diffusion problem like the Poisson equation, the other boundaries often implicitly have Neumann (zero-flux) boundary conditions if no other BCs are explicitly defined. This means no quantity is entering or leaving through these boundaries by diffusion.\n",
    "\n",
    "2.  **Boundary Condition on the Left Side (`left_patch`)**:\n",
    "\n",
    "    Using a Dirichlet boundary condition (such as $u=10.0$ on `left_patch`) is sufficient to make the Poisson problem non-singular and guarantee a unique solution for $u$.\n",
    "\n",
    "    $$u(\\mathbf{\\text{left patch}}) = 10.0$$\n",
    "\n",
    "    Then, we will use the `setup_mean_constraint` function as an alternative option to handle this boundary condition."
   ]
  },
  {
   "cell_type": "markdown",
   "id": "9ca3bba8-d4cb-41fa-b064-74ec4b197df6",
   "metadata": {},
   "source": [
    "### Numerical Solution"
   ]
  },
  {
   "cell_type": "code",
   "execution_count": 15,
   "id": "f723717e-d94b-4d57-9c20-96f04bcbf2de",
   "metadata": {},
   "outputs": [
    {
     "name": "stdout",
     "output_type": "stream",
     "text": [
      "search: \u001b[0m\u001b[1mg\u001b[22m\u001b[0m\u001b[1me\u001b[22m\u001b[0m\u001b[1mn\u001b[22m\u001b[0m\u001b[1me\u001b[22m\u001b[0m\u001b[1mr\u001b[22m\u001b[0m\u001b[1ma\u001b[22m\u001b[0m\u001b[1mt\u001b[22m\u001b[0m\u001b[1me\u001b[22m\u001b[0m\u001b[1m_\u001b[22m\u001b[0m\u001b[1mg\u001b[22m\u001b[0m\u001b[1mr\u001b[22m\u001b[0m\u001b[1mi\u001b[22m\u001b[0m\u001b[1md\u001b[22m @\u001b[0m\u001b[1mg\u001b[22m\u001b[0m\u001b[1me\u001b[22m\u001b[0m\u001b[1mn\u001b[22m\u001b[0m\u001b[1me\u001b[22m\u001b[0m\u001b[1mr\u001b[22m\u001b[0m\u001b[1ma\u001b[22m\u001b[0m\u001b[1mt\u001b[22m\u001b[0m\u001b[1me\u001b[22md Base.\u001b[0m\u001b[1mG\u001b[22m\u001b[0m\u001b[1me\u001b[22m\u001b[0m\u001b[1mn\u001b[22m\u001b[0m\u001b[1me\u001b[22m\u001b[0m\u001b[1mr\u001b[22m\u001b[0m\u001b[1ma\u001b[22m\u001b[0m\u001b[1mt\u001b[22mor\n",
      "\n"
     ]
    },
    {
     "data": {
      "text/latex": [
       "\\begin{verbatim}\n",
       "generate_grid(celltype::Cell, nel::NTuple, [left::Vec, right::Vec)\n",
       "\\end{verbatim}\n",
       "Return a \\texttt{Grid} for a rectangle in 1, 2 or 3 dimensions. \\texttt{celltype} defined the type of cells, e.g. \\texttt{Triangle} or \\texttt{Hexahedron}. \\texttt{nel} is a tuple of the number of elements in each direction. \\texttt{left} and \\texttt{right} are optional endpoints of the domain. Defaults to -1 and 1 in all directions.\n",
       "\n"
      ],
      "text/markdown": [
       "```\n",
       "generate_grid(celltype::Cell, nel::NTuple, [left::Vec, right::Vec)\n",
       "```\n",
       "\n",
       "Return a `Grid` for a rectangle in 1, 2 or 3 dimensions. `celltype` defined the type of cells, e.g. `Triangle` or `Hexahedron`. `nel` is a tuple of the number of elements in each direction. `left` and `right` are optional endpoints of the domain. Defaults to -1 and 1 in all directions.\n"
      ],
      "text/plain": [
       "\u001b[36m  generate_grid(celltype::Cell, nel::NTuple, [left::Vec, right::Vec)\u001b[39m\n",
       "\n",
       "  Return a \u001b[36mGrid\u001b[39m for a rectangle in 1, 2 or 3 dimensions. \u001b[36mcelltype\u001b[39m defined the\n",
       "  type of cells, e.g. \u001b[36mTriangle\u001b[39m or \u001b[36mHexahedron\u001b[39m. \u001b[36mnel\u001b[39m is a tuple of the number of\n",
       "  elements in each direction. \u001b[36mleft\u001b[39m and \u001b[36mright\u001b[39m are optional endpoints of the\n",
       "  domain. Defaults to -1 and 1 in all directions."
      ]
     },
     "execution_count": 15,
     "metadata": {},
     "output_type": "execute_result"
    }
   ],
   "source": [
    "?generate_grid"
   ]
  },
  {
   "cell_type": "code",
   "execution_count": 16,
   "id": "f8899efd-06a0-4541-bfbd-edbd1902c408",
   "metadata": {},
   "outputs": [],
   "source": [
    "# grid = generate_grid(Quadrilateral, (100, 100));\n",
    "nelem = 100 \n",
    "nels  = (nelem, nelem) # number of elements in each spatial direction\n",
    "grid = generate_grid(Quadrilateral, nels);\n",
    "\n",
    "ip  = Lagrange{RefQuadrilateral, 1}()\n",
    "qr  = QuadratureRule{RefQuadrilateral}(2)\n",
    "ipg = Lagrange{RefQuadrilateral,1}() # linear geometric interpolation\n",
    "cvu = CellValues(qr, ip);\n",
    "qr_facet = FacetQuadratureRule{RefQuadrilateral}(2)\n",
    "fvu      = FacetValues(qr_facet, ip, ipg) # required for inlet integral constraint \n",
    "\n",
    "dh = DofHandler(grid)\n",
    "add!(dh, :u, ip)\n",
    "close!(dh);\n",
    "\n",
    "ch = ConstraintHandler(dh);"
   ]
  },
  {
   "cell_type": "code",
   "execution_count": 17,
   "id": "83fc4687-705e-4f68-a555-5040cdf06d20",
   "metadata": {},
   "outputs": [
    {
     "data": {
      "text/plain": [
       "assemble_K! (generic function with 1 method)"
      ]
     },
     "execution_count": 17,
     "metadata": {},
     "output_type": "execute_result"
    }
   ],
   "source": [
    "function assemble_K!(K::SparseMatrixCSC, f::Vector, cellvalues::CellValues, dh::DofHandler)\n",
    "\n",
    "    n_basefuncs = getnbasefunctions(cellvalues)\n",
    "    Ke = zeros(n_basefuncs, n_basefuncs)\n",
    "    fe = zeros(n_basefuncs)\n",
    "\n",
    "    assembler = start_assemble(K, f)\n",
    "\n",
    "    for cell in CellIterator(dh)\n",
    "\n",
    "        fill!(Ke, 0)\n",
    "        fill!(fe, 0)\n",
    "\n",
    "        Ferrite.reinit!(cellvalues, cell)\n",
    "\n",
    "        for q_point in 1:getnquadpoints(cellvalues)\n",
    "            dΩ = getdetJdV(cellvalues, q_point)\n",
    "\n",
    "            for i in 1:n_basefuncs\n",
    "                v = shape_value(cellvalues, q_point, i)\n",
    "                ∇v = shape_gradient(cellvalues, q_point, i)\n",
    "                fe[i] += v * dΩ\n",
    "                #fe[i] += 0\n",
    "                for j in 1:n_basefuncs\n",
    "                    ∇u = shape_gradient(cellvalues, q_point, j)\n",
    "                    Ke[i, j] += (∇v ⋅ ∇u) * dΩ\n",
    "                end\n",
    "            end\n",
    "        end\n",
    "\n",
    "        assemble!(assembler, celldofs(cell), Ke, fe)\n",
    "    end\n",
    "    return K, f\n",
    "end"
   ]
  },
  {
   "cell_type": "code",
   "execution_count": 18,
   "id": "66b0da1b-f06b-4fe5-a596-ed41830de451",
   "metadata": {},
   "outputs": [
    {
     "data": {
      "text/plain": [
       "setup_mean_constraint (generic function with 1 method)"
      ]
     },
     "execution_count": 18,
     "metadata": {},
     "output_type": "execute_result"
    }
   ],
   "source": [
    "function setup_mean_constraint(dh, fvu)\n",
    "    assembler = Ferrite.COOAssembler()\n",
    "    # All external boundaries\n",
    "    set = union(getfacetset(dh.grid, \"left\"))\n",
    "    # Allocate buffers\n",
    "    range_u = dof_range(dh, :u)\n",
    "    element_dofs = zeros(Int, ndofs_per_cell(dh))\n",
    "    element_dofs_u = view(element_dofs, range_u)\n",
    "    element_coords = zeros(Vec{2}, 4) # assuming 2D mesh with quadrilaterals only\n",
    "    Ce = zeros(1, length(range_u)) # Local constraint matrix (only 1 row)\n",
    "    # Loop over all the boundaries\n",
    "    for (ci, fi) in set\n",
    "        Ce .= 0\n",
    "        getcoordinates!(element_coords, dh.grid, ci)\n",
    "        Ferrite.reinit!(fvu, element_coords, fi)\n",
    "        celldofs!(element_dofs, dh, ci)\n",
    "        for qp in 1:getnquadpoints(fvu)\n",
    "            dΓ = getdetJdV(cvu, qp)\n",
    "            for i in 1:getnbasefunctions(fvu)\n",
    "                Ce[1, i] += shape_value(fvu, qp, i) * dΓ\n",
    "            end\n",
    "        end\n",
    "        # Assemble to row 1\n",
    "        assemble!(assembler, [1], element_dofs_u, Ce)\n",
    "    end\n",
    "    C, _ = finish_assemble(assembler)\n",
    "    # Create an AffineConstraint from the C-matrix\n",
    "    _, J, V = findnz(C)\n",
    "    _, constrained_dof_idx = findmax(abs2, V)\n",
    "    constrained_dof = J[constrained_dof_idx]\n",
    "    V ./= V[constrained_dof_idx]\n",
    "    mean_value_constraint = AffineConstraint(\n",
    "        constrained_dof,\n",
    "        Pair{Int, Float64}[J[i] => -V[i] for i in 1:length(J) if J[i] != constrained_dof],\n",
    "        10.0,\n",
    "    )\n",
    "    return mean_value_constraint\n",
    "end"
   ]
  },
  {
   "cell_type": "code",
   "execution_count": 19,
   "id": "e06e6125-b079-450d-a296-4a5ef822d36a",
   "metadata": {},
   "outputs": [
    {
     "data": {
      "text/plain": [
       "mypostprocess (generic function with 1 method)"
      ]
     },
     "execution_count": 19,
     "metadata": {},
     "output_type": "execute_result"
    }
   ],
   "source": [
    "function mypostprocess(u, dh, cvu, nels)\n",
    "\n",
    "    numcells = nels[1]*nels[2]\n",
    "    area = zeros(numcells)\n",
    "    myu  = zeros(numcells)\n",
    "\n",
    "    for (cell_num, cell) in enumerate(CellIterator(dh))\n",
    "\n",
    "        Ferrite.reinit!(cvu, cell)\n",
    "        \n",
    "        dof_range_u = dof_range(dh,:u)\n",
    "        uloc = u[celldofs(dh,cell_num)[dof_range_u]]\n",
    "        Ferrite.reinit!(cvu, cell)\n",
    "\n",
    "        cellarea = 0. \n",
    "        cellu = 0 \n",
    "    \n",
    "        for q_point in 1:getnquadpoints(cvu)\n",
    "            dΩ = getdetJdV(cvu, q_point)\n",
    "            celluq = function_value(cvu, q_point, uloc)\n",
    "            cellarea += dΩ \n",
    "            cellu += celluq*dΩ\n",
    "        end\n",
    "\n",
    "        area[cell_num] = cellarea\n",
    "        myu[cell_num]  = cellu\n",
    "    \n",
    "    end  \n",
    "\n",
    "    myu2d = reshape(myu, nels[1], nels[2])\n",
    "    \n",
    "    return area, myu2d \n",
    "end "
   ]
  },
  {
   "cell_type": "code",
   "execution_count": 20,
   "id": "e815588e-b3be-44ef-8b90-fb8184f9469a",
   "metadata": {},
   "outputs": [
    {
     "ename": "LoadError",
     "evalue": "SingularException(0)",
     "output_type": "error",
     "traceback": [
      "SingularException(0)",
      "",
      "Stacktrace:",
      " [1] #lu#7",
      "   @ C:\\Users\\anouc\\AppData\\Local\\Programs\\Julia-1.11.5\\share\\julia\\stdlib\\v1.11\\SparseArrays\\src\\solvers\\umfpack.jl:389 [inlined]",
      " [2] lu(S::SparseMatrixCSC{Float64, Int64})",
      "   @ SparseArrays.UMFPACK C:\\Users\\anouc\\AppData\\Local\\Programs\\Julia-1.11.5\\share\\julia\\stdlib\\v1.11\\SparseArrays\\src\\solvers\\umfpack.jl:384",
      " [3] \\(A::SparseMatrixCSC{Float64, Int64}, B::Vector{Float64})",
      "   @ SparseArrays C:\\Users\\anouc\\AppData\\Local\\Programs\\Julia-1.11.5\\share\\julia\\stdlib\\v1.11\\SparseArrays\\src\\linalg.jl:1929",
      " [4] top-level scope",
      "   @ In[20]:17"
     ]
    }
   ],
   "source": [
    "# Boundary conditions part: Dirichlet BC for the velocity at the top lid \n",
    "left_patch = getfacetset(dh.grid, \"left\")\n",
    "if (false)\n",
    "    dbc1 = Dirichlet(:u, left_patch, (x,t) ->  10. )\n",
    "else \n",
    "    dbc1 = setup_mean_constraint(dh, fvu)\n",
    "end \n",
    "add!(ch, dbc1)\n",
    "\n",
    "close!(ch);\n",
    "\n",
    "K = allocate_matrix(dh,ch);\n",
    "M = allocate_matrix(dh,ch);\n",
    "f = zeros(ndofs(dh));\n",
    "\n",
    "K, f = assemble_K!(K, f, cvu, dh);\n",
    "apply!(K, f, ch)\n",
    "u = K \\ f;\n",
    "\n",
    "VTKGridFile(\"diffusion\", dh) do vtk\n",
    "    write_solution(vtk, dh, u)\n",
    "    Ferrite.write_constraints(vtk, ch)\n",
    "end\n",
    "\n",
    "area, myu2d = mypostprocess(u, dh, cvu, nels)\n",
    "p1 = contour(myu2d', fill=true)\n",
    "p2 = surface(myu2d', fill=true)\n",
    "plot(p1,p2, layout=(1,2))"
   ]
  },
  {
   "cell_type": "markdown",
   "id": "fab1e519-5f83-41b2-bde7-bebe35ca50a9",
   "metadata": {},
   "source": [
    "## Section 3 : Non linear Scalar Diffusion  "
   ]
  },
  {
   "cell_type": "markdown",
   "id": "b04c1744-fe90-4166-99d6-b89dd4c59c16",
   "metadata": {},
   "source": [
    "### 3.1 Model Problem"
   ]
  },
  {
   "cell_type": "markdown",
   "id": "d1a1a173-7cb3-4d44-bce3-13e3327e2fd8",
   "metadata": {},
   "source": [
    "### 3.2 Solution Approaches    "
   ]
  },
  {
   "cell_type": "markdown",
   "id": "abaceab0-16bb-4ca5-aaee-76ba86d39968",
   "metadata": {},
   "source": [
    "#### Section 3.2.1 : Penalty Method \n",
    "\n",
    "For the non-linear constraints using the [penalty method](https://en.wikipedia.org/wiki/Penalty_method), it suffices to add a boundary term to the weak form. More specifically, one adds to the weak form the term p $\\int_{\\Gamma_{inlet}} [u^2 - 1] \\, v \\, d\\Gamma$, where p is a weighting factor and v is the test function. The weighting factor p is initially zero and increases (to give more weight to the constraint to be imposed) as convergence is obtained. In a transient solution process, the weighting parameter p can be scaled with time. \n",
    "\n",
    "For the implementation of integrals over the boundary, the incompressible elasticity tutorial provides a good example. Look for the comment “We integrate the Neumann boundary using the FacetValues.” This part of the weak form needs to be updated with time. This is similar to the update of the non-linear part of the Jacobian in the incompressible Navier-Stokes tutorial. \n",
    "\n",
    "#### Section 3.2.2: Lagrangian Multiplier Method \n",
    "\n",
    "For the (again, back to) linear constraints using this time Lagrange multipliers (as opposed to AffineConstraints that Ferrite already provides), I would need to look into the details. (For now, see [Lagrangian multipliers](https://en.wikipedia.org/wiki/Lagrange_multiplier). "
   ]
  },
  {
   "cell_type": "code",
   "execution_count": null,
   "id": "e86a6415-2bda-4954-9e81-12867236c45f",
   "metadata": {},
   "outputs": [],
   "source": []
  }
 ],
 "metadata": {
  "kernelspec": {
   "display_name": "Julia 1.11.5",
   "language": "julia",
   "name": "julia-1.11"
  },
  "language_info": {
   "file_extension": ".jl",
   "mimetype": "application/julia",
   "name": "julia",
   "version": "1.11.5"
  }
 },
 "nbformat": 4,
 "nbformat_minor": 5
}
