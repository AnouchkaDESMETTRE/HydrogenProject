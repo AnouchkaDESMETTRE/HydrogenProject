{
 "cells": [
  {
   "cell_type": "markdown",
   "id": "e52a9a18-dc8a-4a76-899e-b494d36b8972",
   "metadata": {},
   "source": [
    "# 2D FEM Transient Simulatons of Hydrogen Absorption/Desorption from Reactor   \n",
    "\n",
    "Simulates hydrogen absorption/desorption in a reactor. Reactor represented here as 2D rectangular domain. The mesh is generated using the Ferrite uniform mesg generator. "
   ]
  },
  {
   "cell_type": "markdown",
   "id": "cc016459-7d67-4e1d-89e6-2eacf462ad8d",
   "metadata": {},
   "source": [
    "##  Import Packages"
   ]
  },
  {
   "cell_type": "code",
   "execution_count": 1,
   "id": "c3f62844-3286-488a-9283-8a737d235584",
   "metadata": {},
   "outputs": [],
   "source": [
    "using BlockArrays\n",
    "using LinearAlgebra\n",
    "using UnPack\n",
    "using LinearSolve \n",
    "using SparseArrays\n",
    "using Ferrite\n",
    "using FerriteGmsh \n",
    "using OrdinaryDiffEq\n",
    "using DifferentialEquations\n",
    "using Plots \n",
    "using WriteVTK\n",
    "using Gmsh"
   ]
  },
  {
   "cell_type": "markdown",
   "id": "4218ba48-f412-4f54-9d4d-6b3d2babc21e",
   "metadata": {},
   "source": [
    "## Section 1: Introduction \n",
    "We develop the following four transient 2D models: \n",
    "\n",
    "1. only time-evolution for solid concentration (unclear whether mass matrix should be integrated);\n",
    "2. time-dependent diffusion of hydrogen gas and time-evolution for solid concentration;\n",
    "3. time-dependent convection - diffusion of hydrogen gas and time-evolution for solid concentration;\n",
    "  \n",
    "More later. "
   ]
  },
  {
   "cell_type": "markdown",
   "id": "93428b1b-362a-4e15-b7f2-63eea860c366",
   "metadata": {},
   "source": [
    "## Section 2: Mesh Generation\n",
    "Common for various models in this notebook. "
   ]
  },
  {
   "cell_type": "code",
   "execution_count": 2,
   "id": "5a5b8428-23ab-4d97-a660-2f484fe1acc7",
   "metadata": {},
   "outputs": [],
   "source": [
    "nels  = (100, 25)         # number of elements in each spatial direction\n",
    "# nels  = (10, 4)\n",
    "left  = Vec((0., 0.))     # start point for geometry \n",
    "right = Vec((1.0, 0.25,)) # end point for geometry\n",
    "grid = generate_grid(Quadrilateral,nels,left,right);"
   ]
  },
  {
   "cell_type": "markdown",
   "id": "5f8ecc2a-0b11-4dc2-9aa8-f742d9c40376",
   "metadata": {},
   "source": [
    "## Section 3: Time-Evolution of Metal-Oxide Concentration Only  \n",
    "Single field model. \n",
    "See my jupyter notebook Hydrogen Project, section : **2.2.1 Absorption Case**"
   ]
  },
  {
   "cell_type": "markdown",
   "id": "a3f83798-1884-40a2-93af-d715dfb36028",
   "metadata": {},
   "source": [
    "### Section 1.3: Assembly of Single Species Mass Matrix (possibly not required) "
   ]
  },
  {
   "cell_type": "code",
   "execution_count": 3,
   "id": "7bd34e12-70ec-410c-9399-446ce6e5b4b3",
   "metadata": {},
   "outputs": [
    {
     "data": {
      "text/plain": [
       "assemble_mass_matrix (generic function with 1 method)"
      ]
     },
     "execution_count": 3,
     "metadata": {},
     "output_type": "execute_result"
    }
   ],
   "source": [
    "function assemble_mass_matrix(cellvalues_u1::CellValues, M::SparseMatrixCSC, dh::DofHandler)\n",
    "    n_basefuncs = getnbasefunctions(cellvalues_u1)\n",
    "    Me = zeros(n_basefuncs, n_basefuncs)\n",
    "\n",
    "    assembler = start_assemble(M)\n",
    "\n",
    "    for cell in CellIterator(dh)\n",
    "\n",
    "        fill!(Me, 0)\n",
    "\n",
    "        Ferrite.reinit!(cellvalues_u1, cell)\n",
    "\n",
    "        for q_point in 1:getnquadpoints(cellvalues_u1)\n",
    "            dΩ = getdetJdV(cellvalues_u1, q_point)\n",
    "\n",
    "            for i in 1:n_basefuncs\n",
    "                v = shape_value(cellvalues_u1, q_point, i)\n",
    "                for j in 1:n_basefuncs\n",
    "                    u = shape_value(cellvalues_u1, q_point, j)\n",
    "                    Me[i, j] += (v * u) * dΩ\n",
    "                end\n",
    "            end\n",
    "        end\n",
    "\n",
    "        assemble!(assembler, celldofs(cell), Me)\n",
    "    end\n",
    "    return M    \n",
    "end"
   ]
  },
  {
   "cell_type": "markdown",
   "id": "1fd72509-068c-4750-b73c-664ced7d0a7c",
   "metadata": {},
   "source": [
    "### Section 2.3: Spatial Discretization Set-Up and Mass Matrix Assembly"
   ]
  },
  {
   "cell_type": "code",
   "execution_count": 4,
   "id": "8aa2d4f2-ee1a-4870-96df-9bd8b22ab350",
   "metadata": {},
   "outputs": [],
   "source": [
    "dim = 2 \n",
    "degree = 1\n",
    "\n",
    "# FE values\n",
    "ip_u1 = Lagrange{RefQuadrilateral, degree}()\n",
    "qr = QuadratureRule{RefQuadrilateral}(2*degree+1)\n",
    "cellvalues_u1 = CellValues(qr, ip_u1);\n",
    "\n",
    "dh = DofHandler(grid)\n",
    "\n",
    "add!(dh, :u1, ip_u1)\n",
    "\n",
    "close!(dh)\n",
    "\n",
    "M = allocate_matrix(dh);\n",
    "M = assemble_mass_matrix(cellvalues_u1, M, dh);"
   ]
  },
  {
   "cell_type": "markdown",
   "id": "b43bedb3-f2a4-4831-b885-509fd96e26d5",
   "metadata": {},
   "source": [
    "### Section 3.3: ODE System Set-Up and Time-Integration \n",
    "Should mass matrix be taken into account? "
   ]
  },
  {
   "cell_type": "code",
   "execution_count": 5,
   "id": "f3c43ce4-d36e-42da-8207-461e0555d50e",
   "metadata": {},
   "outputs": [],
   "source": [
    "# Scenario-1: absorption case: du > 0 : density of solid (amount of gas absorbed) increases until reaching saturation\n",
    "\n",
    "# problem set-up: rhs function that defines the ODE\n",
    "function rhs!(du,u,p,t)\n",
    "    @. du .= (.5-u) # absorption assuming \\rho_{sat} = 0.5 and multiplying factors equal 1\n",
    "end \n",
    "\n",
    "# problem set-up: initial condition\n",
    "uinit = zeros(ndofs(dh))\n",
    "apply_analytical!(uinit, dh, :u1, x -> 0.3)\n",
    "\n",
    "# problem set-up: set time span\n",
    "Tend = 4\n",
    "tspan = (0.0,Tend)\n",
    "\n",
    "# associate mass matrix to the right-hand side function  \n",
    "# rhs = ODEFunction(rhs!, mass_matrix=M)\n",
    "rhs = ODEFunction(rhs!)\n",
    "\n",
    "# problem set-up: define ODE problem \n",
    "problem = ODEProblem(rhs,uinit,tspan)\n",
    "\n",
    "# solve: perform time integration \n",
    "timestepper = Rodas5P(autodiff=false)\n",
    "sol = solve(problem,timestepper,reltol=1e-4,abstol=1e-4);"
   ]
  },
  {
   "cell_type": "markdown",
   "id": "100e78ca-e0b7-4c9e-83b6-9ecc8b4841a4",
   "metadata": {},
   "source": [
    "### Section 4.3: Time Integration and Post-Processing "
   ]
  },
  {
   "cell_type": "code",
   "execution_count": 6,
   "id": "414985e2-c6c6-4648-bb1a-32625f7ea03d",
   "metadata": {},
   "outputs": [
    {
     "data": {
      "text/plain": [
       "0.0"
      ]
     },
     "metadata": {},
     "output_type": "display_data"
    },
    {
     "data": {
      "text/plain": [
       "0.10851937903270523"
      ]
     },
     "metadata": {},
     "output_type": "display_data"
    },
    {
     "data": {
      "text/plain": [
       "0.4240186970249955"
      ]
     },
     "metadata": {},
     "output_type": "display_data"
    },
    {
     "data": {
      "text/plain": [
       "0.8746823996411948"
      ]
     },
     "metadata": {},
     "output_type": "display_data"
    },
    {
     "data": {
      "text/plain": [
       "1.4390243012251567"
      ]
     },
     "metadata": {},
     "output_type": "display_data"
    },
    {
     "data": {
      "text/plain": [
       "2.165728779972757"
      ]
     },
     "metadata": {},
     "output_type": "display_data"
    },
    {
     "data": {
      "text/plain": [
       "3.0679810167663724"
      ]
     },
     "metadata": {},
     "output_type": "display_data"
    }
   ],
   "source": [
    "integrator = init(\n",
    "    problem, timestepper; \n",
    "    adaptive=true, \n",
    "    progress=true, progress_steps=100,\n",
    "    verbose=true,\n",
    ");\n",
    "\n",
    "pvd = paraview_collection(\"h2-storage\")\n",
    "for (step, (u,t)) in enumerate(intervals(integrator))\n",
    "    display(t)\n",
    "    VTKGridFile(\"h2-storage-$step\", dh) do vtk\n",
    "        write_solution(vtk, dh, u)\n",
    "        pvd[t] = vtk\n",
    "    end\n",
    "end\n",
    "vtk_save(pvd);"
   ]
  },
  {
   "cell_type": "markdown",
   "id": "f4698c00-7921-4d2d-b6cd-dc47325d0508",
   "metadata": {},
   "source": [
    "## Section 4: Time Evolution of Metal Hydride Concentration ($u_1$) and H2 Gas ($u_2$)"
   ]
  },
  {
   "cell_type": "code",
   "execution_count": 7,
   "id": "390b5915-12e6-4624-93e9-f1c7857bef8d",
   "metadata": {},
   "outputs": [
    {
     "data": {
      "text/plain": [
       "DofHandler{2, Grid{2, Quadrilateral, Float64}}\n",
       "  Fields:\n",
       "    :u1, Lagrange{RefQuadrilateral, 1}()\n",
       "    :u2, Lagrange{RefQuadrilateral, 1}()\n",
       "  Dofs per cell: 8\n",
       "  Total dofs: 5252"
      ]
     },
     "execution_count": 7,
     "metadata": {},
     "output_type": "execute_result"
    }
   ],
   "source": [
    "dim = 2 \n",
    "degree = 1\n",
    "\n",
    "# FE values\n",
    "ip_u1 = Lagrange{RefQuadrilateral, degree}()\n",
    "qr = QuadratureRule{RefQuadrilateral}(2*degree+1)\n",
    "cellvalues_u1 = CellValues(qr, ip_u1);\n",
    "\n",
    "ip_u2 = Lagrange{RefQuadrilateral, degree}()\n",
    "qr = QuadratureRule{RefQuadrilateral}(2*degree+1)\n",
    "cellvalues_u2 = CellValues(qr, ip_u2);\n",
    "\n",
    "dh = DofHandler(grid)\n",
    "\n",
    "add!(dh, :u1, ip_u1)\n",
    "add!(dh, :u2, ip_u2)\n",
    "\n",
    "close!(dh)"
   ]
  },
  {
   "cell_type": "code",
   "execution_count": 8,
   "id": "80ae05c9-4b73-486d-aa2c-e195625dbd2c",
   "metadata": {},
   "outputs": [
    {
     "data": {
      "text/plain": [
       "2500"
      ]
     },
     "execution_count": 8,
     "metadata": {},
     "output_type": "execute_result"
    }
   ],
   "source": [
    "length(grid.cells)"
   ]
  },
  {
   "cell_type": "code",
   "execution_count": 9,
   "id": "666e925f-9a1a-4998-8dcc-083ddd8e7979",
   "metadata": {},
   "outputs": [
    {
     "data": {
      "text/plain": [
       "1:4"
      ]
     },
     "execution_count": 9,
     "metadata": {},
     "output_type": "execute_result"
    }
   ],
   "source": [
    "dof_range_u1 = dof_range(dh, :u1)"
   ]
  },
  {
   "cell_type": "code",
   "execution_count": 10,
   "id": "561cbfe5-5368-40b9-9645-38b8201fecdf",
   "metadata": {},
   "outputs": [
    {
     "data": {
      "text/plain": [
       "5:8"
      ]
     },
     "execution_count": 10,
     "metadata": {},
     "output_type": "execute_result"
    }
   ],
   "source": [
    " dof_range_u2 = dof_range(dh, :u2) "
   ]
  },
  {
   "cell_type": "code",
   "execution_count": 11,
   "id": "c228a300-64d1-4bfd-9323-22492cf1d265",
   "metadata": {},
   "outputs": [
    {
     "data": {
      "text/plain": [
       "2626-element Vector{Int64}:\n",
       "    1\n",
       "    2\n",
       "    3\n",
       "    4\n",
       "    9\n",
       "   10\n",
       "   13\n",
       "   14\n",
       "   17\n",
       "   18\n",
       "   21\n",
       "   22\n",
       "   25\n",
       "    ⋮\n",
       " 5229\n",
       " 5231\n",
       " 5233\n",
       " 5235\n",
       " 5237\n",
       " 5239\n",
       " 5241\n",
       " 5243\n",
       " 5245\n",
       " 5247\n",
       " 5249\n",
       " 5251"
      ]
     },
     "execution_count": 11,
     "metadata": {},
     "output_type": "execute_result"
    }
   ],
   "source": [
    "range_u1 =  unique!(reduce(vcat, [ celldofs(dh, ce)[dof_range_u1] for ce in 1:length(grid.cells) ]))"
   ]
  },
  {
   "cell_type": "code",
   "execution_count": 12,
   "id": "49b017e5-65f3-43b5-b9bc-5a5e8037a5f8",
   "metadata": {},
   "outputs": [
    {
     "data": {
      "text/plain": [
       "2626-element Vector{Int64}:\n",
       "    5\n",
       "    6\n",
       "    7\n",
       "    8\n",
       "   11\n",
       "   12\n",
       "   15\n",
       "   16\n",
       "   19\n",
       "   20\n",
       "   23\n",
       "   24\n",
       "   27\n",
       "    ⋮\n",
       " 5230\n",
       " 5232\n",
       " 5234\n",
       " 5236\n",
       " 5238\n",
       " 5240\n",
       " 5242\n",
       " 5244\n",
       " 5246\n",
       " 5248\n",
       " 5250\n",
       " 5252"
      ]
     },
     "execution_count": 12,
     "metadata": {},
     "output_type": "execute_result"
    }
   ],
   "source": [
    "range_u2 =  unique!(reduce(vcat, [ celldofs(dh, ce)[dof_range_u2] for ce in 1:length(grid.cells) ]))"
   ]
  },
  {
   "cell_type": "markdown",
   "id": "f9c3127b-0c2d-45f0-885d-6965d8013dfb",
   "metadata": {},
   "source": [
    "### Section 1.4: Assembly of Two-Species Mass Matrix and Stiffness Matrix "
   ]
  },
  {
   "cell_type": "code",
   "execution_count": 14,
   "id": "bbc03174-d24e-41ce-b77b-f276dee6cbf4",
   "metadata": {},
   "outputs": [
    {
     "data": {
      "text/plain": [
       "assemble_stiffness_matrix (generic function with 1 method)"
      ]
     },
     "execution_count": 14,
     "metadata": {},
     "output_type": "execute_result"
    }
   ],
   "source": [
    "function assemble_mass_matrix(cellvalues_u1::CellValues, cellvalues_u2::CellValues, M::SparseMatrixCSC, dh::DofHandler)\n",
    "    assembler = start_assemble(M)\n",
    "    Me = zeros(ndofs_per_cell(dh), ndofs_per_cell(dh))\n",
    "    range_u1 = dof_range(dh, :u1)\n",
    "    ndofs_u1 = length(range_u1) #nbr de DOF locaux de u1 par élément\n",
    "    range_u2 = dof_range(dh, :u2)\n",
    "    ndofs_u2 = length(range_u2)\n",
    "    u1 = Vector{Float64}(undef, ndofs_u1)\n",
    "    u2 = Vector{Float64}(undef, ndofs_u2)\n",
    "    \n",
    "    for cell in CellIterator(dh)\n",
    "\n",
    "        fill!(Me, 0)\n",
    "\n",
    "        Ferrite.reinit!(cellvalues_u1, cell)\n",
    "\n",
    "        for qp in 1:getnquadpoints(cellvalues_u1)\n",
    "            dΩ = getdetJdV(cellvalues_u1, qp)\n",
    "            for i in 1:ndofs_u1\n",
    "                u1[i] = shape_value(cellvalues_u1, qp, i) # i-ème fonction de base de u1 évaluée au point de quadrature qp.\n",
    "            end\n",
    "            # u1-u1\n",
    "            for (i, I) in pairs(range_u1), (j, J) in pairs(range_u1) #Boucle sur les paires d'indices globaux (I, J) correspondant aux DOFs de u1. pairs permet d'itérer sur les indices et les valeurs simultanément.\n",
    "                Me[I, J] = (I==J) # Simplification : Au lieu d'intégrer le produit des fonctions de base (∫ϕIϕJdΩ), on assigne 1 si les indices globaux I et J sont les mêmes (correspondant à une masse \"lumpée\" ou diagonale) et 0 sinon, sans utiliser les valeurs des fonctions de base de u1 calculées.\n",
    "                # Il n'y a pas de dérivées spatiales de ρs dans cette équation. Cela signifie que l'évolution de ρs en un point du domaine est directement liée à la valeur de ρs\n",
    "                # en ce même point (via m_dot) et au temps, sans dépendance directe aux valeurs de ρs aux points voisins (comme ce serait le cas avec un terme de diffusion, par exemple).\n",
    "                # Dans ce contexte, la masse lumpée approxime l'effet de l'intégration de ϕIϕJ en considérant que la \"masse\" associée à un nœud est uniquement concentrée sur ce nœud lui-même, sans couplage direct avec les nœuds voisins au niveau de la matrice de masse.\n",
    "            end\n",
    "        end \n",
    "        \n",
    "        Ferrite.reinit!(cellvalues_u2, cell)\n",
    "        \n",
    "        for qp in 1:getnquadpoints(cellvalues_u2)\n",
    "            dΩ = getdetJdV(cellvalues_u2, qp)\n",
    "            for i in 1:ndofs_u2\n",
    "                u2[i] = shape_value(cellvalues_u2, qp, i)\n",
    "            end\n",
    "            # u2-u2 \n",
    "            for (i, I) in pairs(range_u2), (j, J) in pairs(range_u2) \n",
    "                Me[I, J] += ( u2[i] * u2[j] ) * dΩ\n",
    "            end\n",
    "        end \n",
    "        \n",
    "        assemble!(assembler, celldofs(cell), Me)\n",
    "    end\n",
    "    return M    \n",
    "end\n",
    "\n",
    "function assemble_stiffness_matrix(cellvalues_u1::CellValues, cellvalues_u2::CellValues, K::SparseMatrixCSC, dh::DofHandler)\n",
    "    assembler = start_assemble(K)\n",
    "    Ke = zeros(ndofs_per_cell(dh), ndofs_per_cell(dh))\n",
    "    range_u1 = dof_range(dh, :u1)\n",
    "    ndofs_u1 = length(range_u1)\n",
    "    range_u2 = dof_range(dh, :u2)\n",
    "    ndofs_u2 = length(range_u2)\n",
    "    u1  = Vector{Float64}(undef, ndofs_u1)\n",
    "    ∇u1 = Vector{Vec{2,Float64}}(undef, ndofs_u1)\n",
    "    u2  = Vector{Float64}(undef, ndofs_u2)\n",
    "    ∇u2 = Vector{Vec{2,Float64}}(undef, ndofs_u2)\n",
    "\n",
    "    velocity = [1,0]\n",
    "    \n",
    "    for cell in CellIterator(dh)\n",
    "\n",
    "        fill!(Ke, 0)\n",
    "\n",
    "        Ferrite.reinit!(cellvalues_u1, cell)\n",
    "\n",
    "        for qp in 1:getnquadpoints(cellvalues_u2)\n",
    "            dΩ = getdetJdV(cellvalues_u2, qp)\n",
    "            for i in 1:ndofs_u2\n",
    "                u2[i] = shape_value(cellvalues_u2, qp, i)\n",
    "                ∇u2[i] = shape_gradient(cellvalues_u2, qp, i)\n",
    "            end\n",
    "            # u2-u2\n",
    "            for (i, I) in pairs(range_u2), (j, J) in pairs(range_u2) \n",
    "                Ke[I, J] += ( ∇u2[i] ⋅ ∇u2[j] - ( velocity ⋅ ∇u2[i] )* u2[j]) * dΩ\n",
    "            end\n",
    "        end \n",
    "            \n",
    "        assemble!(assembler, celldofs(cell), Ke)\n",
    "    end\n",
    "    return K     \n",
    "end"
   ]
  },
  {
   "cell_type": "markdown",
   "id": "20475680-394f-427d-8573-fa04b7b33bc5",
   "metadata": {},
   "source": [
    "### Section 2.4: Spatial Discretization Set-Up and Matrix Assemblies"
   ]
  },
  {
   "cell_type": "code",
   "execution_count": null,
   "id": "024e58d1-d5c5-40c0-bce7-538f8b8b200d",
   "metadata": {},
   "outputs": [],
   "source": [
    "'function assemble_stiffness_matrix(cellvalues_u1::CellValues, cellvalues_u2::CellValues, K::SparseMatrixCSC, dh::DofHandler)\n",
    "    assembler = start_assemble(K)\n",
    "    Ke = zeros(ndofs_per_cell(dh), ndofs_per_cell(dh))\n",
    "    range_u1 = dof_range(dh, :u1)\n",
    "    ndofs_u1 = length(range_u1)\n",
    "    range_u2 = dof_range(dh, :u2)\n",
    "    ndofs_u2 = length(range_u2)\n",
    "    u1  = Vector{Float64}(undef, ndofs_u1)\n",
    "    ∇u1 = Vector{Vec{2,Float64}}(undef, ndofs_u1)\n",
    "    u2  = Vector{Float64}(undef, ndofs_u2)\n",
    "    ∇u2 = Vector{Vec{2,Float64}}(undef, ndofs_u2)\n",
    "\n",
    "    velocity = [1,0]\n",
    "    \n",
    "    for cell in CellIterator(dh)\n",
    "\n",
    "        fill!(Ke, 0)\n",
    "\n",
    "        Ferrite.reinit!(cellvalues_u1, cell)\n",
    "\n",
    "        for qp in 1:getnquadpoints(cellvalues_u1)\n",
    "            dΩ = getdetJdV(cellvalues_u1, qp)\n",
    "            for i in 1:ndofs_u1\n",
    "                u1[i] = shape_value(cellvalues_u1, qp, i)\n",
    "                ∇u1[i] = shape_gradient(cellvalues_u1, qp, i)\n",
    "            end\n",
    "            # u2-u2\n",
    "            for (i, I) in pairs(range_u2), (j, J) in pairs(range_u2) \n",
    "                Ke[I, J] += ( ∇u1[i] ⋅ ∇u1[j] - ( velocity ⋅ ∇u1[i] )* u1[j]) * dΩ\n",
    "            end\n",
    "        end \n",
    "            \n",
    "        assemble!(assembler, celldofs(cell), Ke)\n",
    "    end\n",
    "    return K     \n",
    "end"
   ]
  },
  {
   "cell_type": "code",
   "execution_count": 15,
   "id": "6994b861-d743-4646-a545-7f14a0157623",
   "metadata": {},
   "outputs": [],
   "source": [
    "dim = 2 \n",
    "degree = 1\n",
    "\n",
    "# FE values\n",
    "ip_u1 = Lagrange{RefQuadrilateral, degree}()\n",
    "qr = QuadratureRule{RefQuadrilateral}(2*degree+1)\n",
    "cellvalues_u1 = CellValues(qr, ip_u1);\n",
    "\n",
    "ip_u2 = Lagrange{RefQuadrilateral, degree}()\n",
    "qr = QuadratureRule{RefQuadrilateral}(2*degree+1)\n",
    "cellvalues_u2 = CellValues(qr, ip_u2);\n",
    "\n",
    "dh = DofHandler(grid)\n",
    "\n",
    "add!(dh, :u1, ip_u1)\n",
    "add!(dh, :u2, ip_u2)\n",
    "\n",
    "close!(dh)\n",
    "\n",
    "dof_range_u1 = dof_range(dh, :u1)\n",
    "dof_range_u2 = dof_range(dh, :u2)\n",
    "range_u1 =  unique!(reduce(vcat, [ celldofs(dh, ce)[dof_range_u1] for ce in 1:length(grid.cells) ]))\n",
    "range_u2 =  unique!(reduce(vcat, [ celldofs(dh, ce)[dof_range_u2] for ce in 1:length(grid.cells) ]))\n",
    "\n",
    "# Boundary conditions \n",
    "ch = ConstraintHandler(dh)\n",
    "\n",
    "# Boundary conditions \n",
    "wall = union(\n",
    "    getfacetset(grid, \"left\"),\n",
    ")\n",
    "dbc = Dirichlet(:u2, wall, (x, t) -> [0.2])\n",
    "add!(ch, dbc)\n",
    "    \n",
    "# Finalize\n",
    "close!(ch)\n",
    "\n",
    "M = allocate_matrix(dh);\n",
    "M = assemble_mass_matrix(cellvalues_u1, cellvalues_u2, M, dh)\n",
    "M[range_u1, range_u1] .= I(length(range_u1))\n",
    "\n",
    "K = allocate_matrix(dh);\n",
    "K = assemble_stiffness_matrix(cellvalues_u1, cellvalues_u2, K, dh);"
   ]
  },
  {
   "cell_type": "markdown",
   "id": "22ba1d38-ce5c-46e0-8016-f8dc6e656da2",
   "metadata": {},
   "source": [
    "### Section 3.4: ODE Set-up and Time-Integration  "
   ]
  },
  {
   "cell_type": "code",
   "execution_count": 16,
   "id": "29f3eae7-65ba-4018-a877-bdec92224a70",
   "metadata": {},
   "outputs": [
    {
     "data": {
      "text/plain": [
       "Rodas5P(; linsolve = nothing, precs = DEFAULT_PRECS, step_limiter! = trivial_limiter!, stage_limiter! = trivial_limiter!, autodiff = AutoFiniteDiff(),)"
      ]
     },
     "execution_count": 16,
     "metadata": {},
     "output_type": "execute_result"
    }
   ],
   "source": [
    "function setup_initial_conditions!(uinit::Vector,dh)\n",
    "   apply_analytical!(uinit, dh, :u1, x -> 0.3)\n",
    "   apply_analytical!(uinit, dh, :u2, x -> 0.2)    \n",
    "end;\n",
    "\n",
    "struct RHSparams\n",
    "    K::SparseMatrixCSC\n",
    "    ch::ConstraintHandler   \n",
    "    dh::DofHandler\n",
    "    range_u1::Vector{Int64}\n",
    "    range_u2::Vector{Int64}    \n",
    "end\n",
    "\n",
    "p = RHSparams(K,ch,dh,range_u1,range_u2)\n",
    "\n",
    "# problem set-up: rhs function that defines the ODE\n",
    "function rhs!(du,u,p::RHSparams,t)\n",
    "    @unpack K,ch,dh,range_u1,range_u2 = p\n",
    "\n",
    "    apply!(u, ch)\n",
    "\n",
    "    # Linear contribution \n",
    "    mul!(du, -100*K, u) # du .= K * u    \n",
    "    \n",
    "    u1 = @view u[range_u1]\n",
    "    u2 = @view u[range_u2] \n",
    "    @. du[range_u1] += (.5-u1)\n",
    "    @. du[range_u2] += -(.5-u1)   \n",
    "end \n",
    "\n",
    "# problem set-up: initial condition\n",
    "uinit = zeros(ndofs(dh))\n",
    "uinit = setup_initial_conditions!(uinit, dh)\n",
    "apply!(uinit, ch)\n",
    "\n",
    "# problem set-up: set time span\n",
    "Tend = 10e0\n",
    "tspan = (0.0,Tend)\n",
    "\n",
    "# associate mass matrix to the right-hand side function  \n",
    "# rhs = ODEFunction(rhs!, mass_matrix=M)\n",
    "rhs = ODEFunction(rhs!)\n",
    "\n",
    "# problem set-up: define ODE problem \n",
    "problem = ODEProblem(rhs,uinit,tspan, p)\n",
    "\n",
    "# solve: perform time integration \n",
    "timestepper = Rodas5P(autodiff=false)\n",
    "# sol = solve(problem,timestepper,reltol=1e-4,abstol=1e-4);"
   ]
  },
  {
   "cell_type": "code",
   "execution_count": 17,
   "id": "fbed4329-b6ed-4beb-90c7-3106ec961404",
   "metadata": {},
   "outputs": [
    {
     "data": {
      "text/plain": [
       "0.0"
      ]
     },
     "metadata": {},
     "output_type": "display_data"
    },
    {
     "data": {
      "text/plain": [
       "0.05936800419547921"
      ]
     },
     "metadata": {},
     "output_type": "display_data"
    },
    {
     "data": {
      "text/plain": [
       "0.10104744577025564"
      ]
     },
     "metadata": {},
     "output_type": "display_data"
    },
    {
     "data": {
      "text/plain": [
       "0.17432316673361353"
      ]
     },
     "metadata": {},
     "output_type": "display_data"
    },
    {
     "data": {
      "text/plain": [
       "0.2909998297238918"
      ]
     },
     "metadata": {},
     "output_type": "display_data"
    },
    {
     "data": {
      "text/plain": [
       "0.44996288416495844"
      ]
     },
     "metadata": {},
     "output_type": "display_data"
    },
    {
     "data": {
      "text/plain": [
       "0.6745729402521373"
      ]
     },
     "metadata": {},
     "output_type": "display_data"
    },
    {
     "data": {
      "text/plain": [
       "0.9755575919577273"
      ]
     },
     "metadata": {},
     "output_type": "display_data"
    },
    {
     "data": {
      "text/plain": [
       "1.3746739569770867"
      ]
     },
     "metadata": {},
     "output_type": "display_data"
    },
    {
     "data": {
      "text/plain": [
       "1.8832132237808539"
      ]
     },
     "metadata": {},
     "output_type": "display_data"
    },
    {
     "data": {
      "text/plain": [
       "2.5019370970368238"
      ]
     },
     "metadata": {},
     "output_type": "display_data"
    },
    {
     "data": {
      "text/plain": [
       "3.2222019297961513"
      ]
     },
     "metadata": {},
     "output_type": "display_data"
    },
    {
     "data": {
      "text/plain": [
       "4.048512861745198"
      ]
     },
     "metadata": {},
     "output_type": "display_data"
    },
    {
     "data": {
      "text/plain": [
       "4.998049497285903"
      ]
     },
     "metadata": {},
     "output_type": "display_data"
    },
    {
     "data": {
      "text/plain": [
       "6.117709629839513"
      ]
     },
     "metadata": {},
     "output_type": "display_data"
    },
    {
     "data": {
      "text/plain": [
       "7.482354167304975"
      ]
     },
     "metadata": {},
     "output_type": "display_data"
    },
    {
     "data": {
      "text/plain": [
       "9.24273961926483"
      ]
     },
     "metadata": {},
     "output_type": "display_data"
    }
   ],
   "source": [
    "integrator = init(\n",
    "    problem, timestepper; \n",
    "    adaptive=true, \n",
    "    progress=true, progress_steps=1,\n",
    "    verbose=true,\n",
    ");\n",
    "\n",
    "pvd = paraview_collection(\"h2-storage\")\n",
    "for (step, (u,t)) in enumerate(intervals(integrator))\n",
    "    display(t)\n",
    "    VTKGridFile(\"h2-storage-$step\", dh) do vtk\n",
    "        write_solution(vtk, dh, u)\n",
    "        pvd[t] = vtk\n",
    "    end\n",
    "end\n",
    "vtk_save(pvd);"
   ]
  },
  {
   "cell_type": "code",
   "execution_count": null,
   "id": "79433614-345d-4752-84c3-ec7a7cceb28d",
   "metadata": {},
   "outputs": [],
   "source": []
  }
 ],
 "metadata": {
  "kernelspec": {
   "display_name": "Julia 1.11.5",
   "language": "julia",
   "name": "julia-1.11"
  },
  "language_info": {
   "file_extension": ".jl",
   "mimetype": "application/julia",
   "name": "julia",
   "version": "1.11.5"
  }
 },
 "nbformat": 4,
 "nbformat_minor": 5
}
