{
 "cells": [
  {
   "cell_type": "markdown",
   "id": "b27449a5",
   "metadata": {},
   "source": [
    "# Geometry and Mesh for Tank plus Nozzle \n",
    "\n",
    "To do: \n",
    "1. generate quadrilateral mesh more adapted to the flow; \n",
    "1. revolve mesh around axis to create a wedgew mesh; "
   ]
  },
  {
   "cell_type": "markdown",
   "id": "946f36f5",
   "metadata": {},
   "source": [
    "## Import Packages"
   ]
  },
  {
   "cell_type": "code",
   "execution_count": null,
   "id": "fc3e2e96",
   "metadata": {},
   "outputs": [],
   "source": [
    "try\n",
    "    using Gmsh: gmsh\n",
    "catch\n",
    "    using gmsh\n",
    "end "
   ]
  },
  {
   "cell_type": "code",
   "execution_count": null,
   "id": "1983db2c-a366-47bb-8f47-a458db36df00",
   "metadata": {},
   "outputs": [],
   "source": [
    "#..1/7: initialize gmsh \n",
    "gmsh.initialize()\n",
    "\n",
    "#..2/7: generate geometry \n",
    "gmsh.option.setNumber(\"General.Terminal\", 1)\n",
    "gmsh.model.add(\"square\")\n",
    "\n",
    "#..geomettry parameters \n",
    "L = 1. \n",
    "R = 0.1\n",
    "Lin = -0.1*L \n",
    "Rin = 0.3*R \n",
    "\n",
    "#..set mesh density parameter \n",
    "lc1 = .005\n",
    "lc2 = .05 \n",
    "\n",
    "#..define four points via (x,y,z) coordinates \n",
    "p1 = gmsh.model.geo.addPoint(0, 0, 0, lc1, 1)\n",
    "p2 = gmsh.model.geo.addPoint(L, 0,  0, lc2, 2)\n",
    "p3 = gmsh.model.geo.addPoint(L, R, 0, lc2, 3)\n",
    "p4 = gmsh.model.geo.addPoint(0, R, 0, lc1, 4)\n",
    "p5 = gmsh.model.geo.addPoint(0, Rin,  0, lc1, 5)\n",
    "p6 = gmsh.model.geo.addPoint(Lin, Rin, 0, lc1, 6)\n",
    "p7 = gmsh.model.geo.addPoint(Lin, 0, 0, lc1, 7)\n",
    "\n",
    "#..define four edges by connecting point labels pairwise  \n",
    "l1 = gmsh.model.geo.addLine(1, 2, 1)\n",
    "l2 = gmsh.model.geo.addLine(2, 3, 2)\n",
    "l3 = gmsh.model.geo.addLine(3, 4, 3)\n",
    "l4 = gmsh.model.geo.addLine(4, 5, 4)\n",
    "l5 = gmsh.model.geo.addLine(5, 6, 5)\n",
    "l6 = gmsh.model.geo.addLine(6, 7, 6)\n",
    "l7 = gmsh.model.geo.addLine(7, 1, 7)\n",
    "\n",
    "#..define curved loop by connecting four edge labels  \n",
    "loop = gmsh.model.geo.addCurveLoop([1, 2, 3, 4, 5, 6, 7], 1)\n",
    "\n",
    "#..define surface by curved loop \n",
    "surf = gmsh.model.geo.addPlaneSurface([1], 1)\n",
    "\n",
    "#..3/7: synchronize the CAD model \n",
    "gmsh.model.geo.synchronize()\n",
    "\n",
    "#..4/7: assign physical groups\n",
    "gmsh.model.addPhysicalGroup(1, [l1, l7], -1, \"axis\")\n",
    "gmsh.model.addPhysicalGroup(1, [l2], -1, \"outlet\")\n",
    "gmsh.model.addPhysicalGroup(1, [l3,l4,l5], -1, \"wall\")\n",
    "gmsh.model.addPhysicalGroup(1, [l6], -1, \"inlet\")\n",
    "gmsh.model.addPhysicalGroup(2, [surf], -1, \"omega\")\n",
    "\n",
    "#..5/7: generate two-dimensional mesh \n",
    "gmsh.option.setNumber(\"Mesh.Algorithm\", 11) # generates mesh of quadrilaterals \n",
    "gmsh.model.mesh.generate(2)\n",
    "\n",
    "#..6/7: write mesh to mesh and visualize the mesh  \n",
    "#..if true, write mesh to file for further processing \n",
    "if (true) gmsh.write(\"tankAndNozzle.msh\") end \n",
    "#..if true, visualize mesh through the GUI \n",
    "if (true) gmsh.fltk.run() end \n",
    "\n",
    "#..7/7: finalize gmsh \n",
    "gmsh.finalize()"
   ]
  },
  {
   "cell_type": "code",
   "execution_count": null,
   "id": "db3d3954-c8d7-4196-9bd7-1bd918d91df6",
   "metadata": {},
   "outputs": [],
   "source": []
  }
 ],
 "metadata": {
  "kernelspec": {
   "display_name": "Julia 1.11.5",
   "language": "julia",
   "name": "julia-1.11"
  },
  "language_info": {
   "file_extension": ".jl",
   "mimetype": "application/julia",
   "name": "julia",
   "version": "1.11.5"
  }
 },
 "nbformat": 4,
 "nbformat_minor": 5
}
